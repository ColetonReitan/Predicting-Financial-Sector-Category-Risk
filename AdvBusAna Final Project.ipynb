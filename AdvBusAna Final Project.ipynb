{
  "nbformat": 4,
  "nbformat_minor": 0,
  "metadata": {
    "colab": {
      "provenance": []
    },
    "kernelspec": {
      "name": "python3",
      "display_name": "Python 3"
    },
    "language_info": {
      "name": "python"
    }
  },
  "cells": [
    {
      "cell_type": "markdown",
      "source": [
        "# Navigating Financial Instability: The March 2023 Collapse of Silicon Valley Bank and the Role of AI/ML in Identifying Risks\n",
        "\n",
        "## Introduction:\n",
        "\n",
        "In March 2023, as a fresh graduate, you've embarked on an exciting journey with the Federal Reserve (the Fed). The Fed's crucial task is to maintain the overall stability of the financial system, including the regulation of key non-bank financial institutions.\n",
        "\n",
        "## SVB Collapse - March 2023:\n",
        "\n",
        "Bank Run and Failure: On March 10, 2023, Silicon Valley Bank (SVB) collapsed after a bank run, following its announcement to sell assets and raise funds due to significant losses. This led to a huge withdrawal of customer funds, and the California Department of Financial Protection and Innovation subsequently placed SVB under the FDIC's receivership.\n",
        "\n",
        "Background: Founded in 1983, SVB, a major player in the tech sector, saw its deposits skyrocket from \\$62 billion in 2020 to \\$124 billion in 2021. The bank's strategy to invest in long-term Treasury bonds backfired as rising interest rates led to a drop in bond values, causing substantial unrealized losses.\n",
        "\n",
        "Impact: The collapse heavily impacted startups and larger tech firms worldwide, disrupting access to funds and affecting various industries.\n",
        "Regulatory and Risk Management Issues: Critiques arose over the bank's risk management, citing reduced stress testing under 2018's Economic Growth, Regulatory Relief, and Consumer Protection Act. A 2021 Federal Reserve review highlighted deficiencies in SVB's risk management.\n",
        "\n",
        "Recovery Efforts: The FDIC, supported by the Treasury, insured all SVB deposits to mitigate broader financial instability. SVB's assets were transferred to Silicon Valley Bridge Bank, N.A., and later acquired by First Citizens BancShares.\n"
      ],
      "metadata": {
        "id": "A2AT30Nfs5aG"
      }
    },
    {
      "cell_type": "markdown",
      "source": [
        "\n",
        "## Your Task at the Fed:\n",
        "\n",
        "Using AI/ML tools, your assignment is to identify financial firms at risk.\n",
        "\n",
        "* Exploratory Data Analysis: You have gathered data on publicly traded companies, some of which operate in the Financial Sector, while others do not.\n",
        "\n",
        "* Classification Task: The initial step is to categorize these companies to determine which are Financial firms under the Fed's supervision. In the training set, a human expert has already classified firms as 'FinancialSector' or not. This classification is missing in the test set, and your objective is to predict this categorization for the test set and automate the process for future datasets.\n",
        "\n",
        "* Risk Prediction: Subsequently, your aim is to predict 'FinancialRisk'. This involves identifying firms not in the Financial Sector as zero risk and assigning a risk score (with 1 being the highest) to firms within the Financial Sector, based on the manual calculations by a human expert in the training set. Your goal is to predict this for the test set and automate the process for future assessments.\n",
        "\n",
        "* Presentation:\n",
        "  * Introduction\n",
        "  * EDA\n",
        "  * Feature selection\n",
        "  * Model Selection\n",
        "    * Hyper-Parameter tuning\n",
        "    * Model variance vs bias\n",
        "  * Final model\n",
        "  * Feature Importance/Explainability\n",
        "  * Conclusion\n",
        "\n",
        "\n",
        "\n",
        "This assignment is critical for maintaining the stability of the financial markets, especially in the aftermath of significant events like the SVB collapse.\n",
        "\n",
        "Here's a data description for your dataset:\n",
        "\n",
        "* url: The web address providing earnings call transcript\n",
        "* call_transcript: Text of earnings call transcript. Features can be engineered via Natural Language Processing techniques.\n",
        "* VWAP: Volume Weighted Average Price of the company's stock.\n",
        "* exchangeCountry: Country where the company's stock is listed.\n",
        "* securityType: Type of security issued by the company (e.g., stock, bond).\n",
        "* CIK: Central Index Key, a unique identifier assigned by the SEC.\n",
        "* name: The name of the company.\n",
        "* securityID: A unique identifier for the security.\n",
        "* incorporationCountry: Country where the company is incorporated.\n",
        "* exchangeName: Name of the stock exchange where the company is listed.\n",
        "* exchangeID: Unique identifier for the stock exchange.\n",
        "* Accrual Ratio: Financial metric indicating the quality of earnings.\n",
        "* Assets: Total assets of the company.\n",
        "* B/P: Book-to-Price ratio.\n",
        "* CF/P: Cash Flow to Price ratio.\n",
        "* Capital Expenditure: Funds used by a company to acquire or upgrade physical assets.\n",
        "* Cash: Total cash holdings.\n",
        "* Debt/Equity: Ratio comparing the company's total liabilities to its shareholder equity.\n",
        "* Depreciation: The allocation of the cost of assets over time.\n",
        "* Dividend: Dividend payments to shareholders.\n",
        "* E/P: Earnings to Price ratio.\n",
        "* EBIT: Earnings Before Interest and Taxes.\n",
        "* EBIT/P: EBIT to Price ratio.\n",
        "* EBIT/TEV: EBIT to Total Enterprise Value ratio.\n",
        "* Earnings: Total earnings of the company.\n",
        "* Earnings Growth (1Y to 5Y): Earnings growth over 1 to 5-year periods.\n",
        "* Earnings Variability: Fluctuations in earnings over time.\n",
        "* Equity: Shareholder's equity in the company.\n",
        "* FCF: Free Cash Flow.\n",
        "* FCF/P: Free Cash Flow to Price ratio.\n",
        "* Income Tax: Total income tax paid.\n",
        "* Interest Expense: Costs of interest paid on debts.\n",
        "* Long Liabilities: Long-term financial obligations.\n",
        "* Long Term Debt: Debt that is due in more than one year.\n",
        "* Market Cap: Market capitalization.\n",
        "* Minority Interest: Portion of subsidiaries not owned by the parent company.\n",
        "* Operating Cash Flow: Cash generated from operating activities.\n",
        "* Operating Expense: Expenses incurred from normal business operations.\n",
        "* Operating Income: Profit realized from business operations.\n",
        "* Operating Income Before Depreciation: Operating income before accounting for depreciation.\n",
        "* Operating Margin: Operating income divided by net sales.\n",
        "* Preferred Stock: Stock with priority over common stock in dividend payment.\n",
        "* Profit Margin: Net income divided by revenue.\n",
        "* R&D: Research and Development expenses.\n",
        "* R&D/Sales: Ratio of R&D expenses to sales.\n",
        "* ROA: Return on Assets.\n",
        "* ROE: Return on Equity.\n",
        "* S/P: Sales to Price ratio.\n",
        "* SG&A: Selling, General, and Administrative expenses.\n",
        "* SG&A/Sales: Ratio of SG&A to sales.\n",
        "* Sales: Total sales revenue.\n",
        "* Sales Growth (1Y to 5Y): Sales growth over 1 to 5-year periods.\n",
        "* Sales Variability: Fluctuations in sales over time.\n",
        "* Short Term Debt: Debt that is due within one year.\n",
        "* TEV: Total Enterprise Value.\n",
        "* Working Capital: Capital used in day-to-day operations.\n",
        "* businessDescription: A brief description of the company's business.\n",
        "* close: Closing price of the company's stock. This is useful if you need to engineer a feature, e.g. to calculate Sales-To-Price, by dividing 'Sales' by 'close'.\n",
        "* dividendFactor: Factor determining the dividend payout.\n",
        "* fiscalDint: Fiscal year distinguishing information.\n",
        "* floatShares: Number of shares available for public trading.\n",
        "* outstandingShares: Total shares currently held by shareholders.\n",
        "* shortInterestFloat: Percentage of float shares held as short positions.\n",
        "\n",
        "Target Variables: (training set only, you predict on the test set and submit on Kaggle)\n",
        "\n",
        "* FinancialSector: Classification of whether the company is in the financial sector.\n",
        "* FinancialRisk: Risk level assigned to the company, based on its financial profile."
      ],
      "metadata": {
        "id": "i6TxMlLvvIMJ"
      }
    },
    {
      "cell_type": "code",
      "source": [
        "! gdown 1r3jZglYXj3Xi_v4I--86fpzLoqFk3PVA\n",
        "! gdown 1_2aTbleEh-kRocoEgHjaVsjYrO9jP1Os"
      ],
      "metadata": {
        "id": "wnUkPuqEnYHM",
        "colab": {
          "base_uri": "https://localhost:8080/"
        },
        "outputId": "5fa5de1b-3867-4c0c-da6f-f767292e88a6"
      },
      "execution_count": null,
      "outputs": [
        {
          "output_type": "stream",
          "name": "stdout",
          "text": [
            "Downloading...\n",
            "From: https://drive.google.com/uc?id=1r3jZglYXj3Xi_v4I--86fpzLoqFk3PVA\n",
            "To: /content/20231124_Financial_Risk_Project_train.parquet\n",
            "100% 9.85M/9.85M [00:00<00:00, 63.3MB/s]\n",
            "Downloading...\n",
            "From: https://drive.google.com/uc?id=1_2aTbleEh-kRocoEgHjaVsjYrO9jP1Os\n",
            "To: /content/20231124_Financial_Risk_Project_test_public.parquet\n",
            "100% 2.52M/2.52M [00:00<00:00, 51.5MB/s]\n"
          ]
        }
      ]
    },
    {
      "cell_type": "code",
      "source": [
        "import pandas as pd\n",
        "df_train = pd.read_parquet('20231124_Financial_Risk_Project_train.parquet')\n",
        "df_test = pd.read_parquet('20231124_Financial_Risk_Project_test_public.parquet')\n",
        "\n",
        "df_train.shape, df_test.shape"
      ],
      "metadata": {
        "colab": {
          "base_uri": "https://localhost:8080/"
        },
        "id": "MFOQBKeBI0jP",
        "outputId": "4e754b08-8680-45bc-dc49-55861812c40e"
      },
      "execution_count": null,
      "outputs": [
        {
          "output_type": "execute_result",
          "data": {
            "text/plain": [
              "((415, 73), (104, 71))"
            ]
          },
          "metadata": {},
          "execution_count": 2
        }
      ]
    },
    {
      "cell_type": "markdown",
      "source": [
        "# Kaggle (Categorization)\n",
        "\n",
        "1. Jordan Adelphi. (2023). Navigating Financial Instability (Categorization). Kaggle. https://kaggle.com/competitions/navigating-financial-instability\n",
        "\n",
        "2. Jordan Adelphi. (2023). Navigating Financial Instability (Regression). Kaggle. https://kaggle.com/competitions/navigating-financial-instability-regression"
      ],
      "metadata": {
        "id": "vp-NayaQI4YV"
      }
    },
    {
      "cell_type": "code",
      "source": [
        "import pandas as pd\n",
        "from sklearn.model_selection import train_test_split\n",
        "from sklearn.ensemble import RandomForestClassifier\n",
        "from sklearn.feature_extraction.text import TfidfVectorizer\n",
        "from sklearn.metrics import accuracy_score, classification_report"
      ],
      "metadata": {
        "id": "OY6nIm4kn3-m"
      },
      "execution_count": null,
      "outputs": []
    },
    {
      "cell_type": "markdown",
      "source": [
        "EDA of Financial Sector\n"
      ],
      "metadata": {
        "id": "KrLLhY0XwA89"
      }
    },
    {
      "cell_type": "code",
      "source": [
        "# Check basic information\n",
        "print(df_train.info())\n",
        "print(df_train.describe())\n",
        "print(df_train.head())"
      ],
      "metadata": {
        "colab": {
          "base_uri": "https://localhost:8080/"
        },
        "id": "8qI00ddilCEh",
        "outputId": "4aa69165-e43c-4755-b961-b6bb6fc838e5"
      },
      "execution_count": null,
      "outputs": [
        {
          "output_type": "stream",
          "name": "stdout",
          "text": [
            "<class 'pandas.core.frame.DataFrame'>\n",
            "Index: 415 entries, FICO to GBCI\n",
            "Data columns (total 73 columns):\n",
            " #   Column                                Non-Null Count  Dtype  \n",
            "---  ------                                --------------  -----  \n",
            " 0   url                                   415 non-null    object \n",
            " 1   call_transcript                       415 non-null    object \n",
            " 2   VWAP                                  415 non-null    float64\n",
            " 3   exchangeCountry                       415 non-null    object \n",
            " 4   securityType                          415 non-null    object \n",
            " 5   CIK                                   415 non-null    object \n",
            " 6   name                                  415 non-null    object \n",
            " 7   securityID                            415 non-null    int64  \n",
            " 8   incorporationCountry                  415 non-null    object \n",
            " 9   exchangeName                          415 non-null    object \n",
            " 10  exchangeID                            412 non-null    object \n",
            " 11  Accrual Ratio                         415 non-null    float64\n",
            " 12  Assets                                415 non-null    float64\n",
            " 13  B/P                                   415 non-null    float64\n",
            " 14  CF/P                                  415 non-null    float64\n",
            " 15  Capital Expenditure                   415 non-null    float64\n",
            " 16  Cash                                  415 non-null    float64\n",
            " 17  Debt/Equity                           397 non-null    float64\n",
            " 18  Depreciation                          415 non-null    float64\n",
            " 19  Dividend                              415 non-null    float64\n",
            " 20  E/P                                   415 non-null    float64\n",
            " 21  EBIT                                  415 non-null    float64\n",
            " 22  EBIT/P                                415 non-null    float64\n",
            " 23  EBIT/TEV                              393 non-null    float64\n",
            " 24  Earnings                              415 non-null    float64\n",
            " 25  Earnings Growth (1Y)                  351 non-null    float64\n",
            " 26  Earnings Growth (2Y)                  277 non-null    float64\n",
            " 27  Earnings Growth (3Y)                  304 non-null    float64\n",
            " 28  Earnings Growth (4Y)                  307 non-null    float64\n",
            " 29  Earnings Growth (5Y)                  294 non-null    float64\n",
            " 30  Earnings Variability                  331 non-null    float64\n",
            " 31  Equity                                415 non-null    float64\n",
            " 32  FCF                                   415 non-null    float64\n",
            " 33  FCF/P                                 415 non-null    float64\n",
            " 34  Income Tax                            415 non-null    float64\n",
            " 35  Interest Expense                      415 non-null    float64\n",
            " 36  Long Liabilities                      415 non-null    float64\n",
            " 37  Long Term Debt                        415 non-null    float64\n",
            " 38  Market Cap                            415 non-null    float64\n",
            " 39  Minority Interest                     399 non-null    float64\n",
            " 40  Operating Cash Flow                   415 non-null    float64\n",
            " 41  Operating Expense                     415 non-null    float64\n",
            " 42  Operating Income                      415 non-null    float64\n",
            " 43  Operating Income Before Depreciation  415 non-null    float64\n",
            " 44  Operating Margin                      408 non-null    float64\n",
            " 45  Preferred Stock                       415 non-null    float64\n",
            " 46  Profit Margin                         408 non-null    float64\n",
            " 47  R&D                                   415 non-null    float64\n",
            " 48  R&D/Sales                             408 non-null    float64\n",
            " 49  ROA                                   415 non-null    float64\n",
            " 50  ROE                                   397 non-null    float64\n",
            " 51  S/P                                   415 non-null    float64\n",
            " 52  SG&A                                  415 non-null    float64\n",
            " 53  SG&A/Sales                            408 non-null    float64\n",
            " 54  Sales                                 415 non-null    float64\n",
            " 55  Sales Growth (1Y)                     399 non-null    float64\n",
            " 56  Sales Growth (2Y)                     382 non-null    float64\n",
            " 57  Sales Growth (3Y)                     369 non-null    float64\n",
            " 58  Sales Growth (4Y)                     360 non-null    float64\n",
            " 59  Sales Growth (5Y)                     355 non-null    float64\n",
            " 60  Sales Variability                     386 non-null    float64\n",
            " 61  Short Term Debt                       415 non-null    float64\n",
            " 62  TEV                                   399 non-null    float64\n",
            " 63  Working Capital                       415 non-null    float64\n",
            " 64  businessDescription                   415 non-null    object \n",
            " 65  close                                 415 non-null    float64\n",
            " 66  dividendFactor                        415 non-null    float64\n",
            " 67  fiscalDint                            415 non-null    int64  \n",
            " 68  floatShares                           415 non-null    float64\n",
            " 69  outstandingShares                     415 non-null    float64\n",
            " 70  shortInterestFloat                    414 non-null    float64\n",
            " 71  FinancialSector                       415 non-null    int64  \n",
            " 72  FinancialRisk                         415 non-null    float64\n",
            "dtypes: float64(60), int64(3), object(10)\n",
            "memory usage: 239.9+ KB\n",
            "None\n",
            "              VWAP    securityID  Accrual Ratio       Assets         B/P  \\\n",
            "count   415.000000  4.150000e+02     415.000000   415.000000  415.000000   \n",
            "mean    116.474308  5.659767e+08      -0.018919   200.850240    0.527509   \n",
            "std     216.885791  6.725897e+08       0.176063   408.857675    0.467866   \n",
            "min       0.199900  1.045040e+07      -3.202525     1.228840   -0.636664   \n",
            "25%      24.995000  1.020151e+08      -0.030362    37.962225    0.170290   \n",
            "50%      57.950000  2.615601e+08      -0.005417    78.088405    0.454349   \n",
            "75%     130.317500  6.539201e+08       0.018226   183.633250    0.763030   \n",
            "max    2648.960000  3.399650e+09       0.261432  4042.049341    3.750665   \n",
            "\n",
            "             CF/P  Capital Expenditure         Cash  Debt/Equity  \\\n",
            "count  415.000000           415.000000   415.000000   397.000000   \n",
            "mean     0.112481             2.303081    18.136927     1.914057   \n",
            "std      0.195024             4.525536    70.680449     7.141619   \n",
            "min     -0.775506             0.000000     0.000000     0.000000   \n",
            "25%      0.035302             0.123280     2.487505     0.337896   \n",
            "50%      0.079560             0.701300     5.497844     0.738463   \n",
            "75%      0.166526             2.418535    13.397640     1.463662   \n",
            "max      1.727142            57.515690  1309.060835   116.069725   \n",
            "\n",
            "       Depreciation  ...          TEV  Working Capital        close  \\\n",
            "count    415.000000  ...   399.000000       415.000000   415.000000   \n",
            "mean       1.930943  ...   132.510298         5.553125   110.817879   \n",
            "std        3.588728  ...   215.511729        17.098716   190.034596   \n",
            "min        0.000000  ...   -63.167179      -105.669178     1.830000   \n",
            "25%        0.123215  ...    37.830784         0.000000    27.245000   \n",
            "50%        0.810170  ...    75.609645         0.000000    61.350000   \n",
            "75%        2.658760  ...   153.935241         6.529998   130.060000   \n",
            "max       54.195690  ...  2924.920173       189.206644  2460.840000   \n",
            "\n",
            "       dividendFactor    fiscalDint   floatShares  outstandingShares  \\\n",
            "count      415.000000  4.150000e+02  4.150000e+02       4.150000e+02   \n",
            "mean         0.978670  2.022126e+07  5.162328e+08       5.584309e+08   \n",
            "std          0.025503  6.180495e+02  1.397186e+09       1.497614e+09   \n",
            "min          0.863362  2.022103e+07  1.305533e+07       1.365940e+07   \n",
            "25%          0.968785  2.022123e+07  7.171691e+07       7.712301e+07   \n",
            "50%          0.985036  2.022123e+07  1.518589e+08       1.665872e+08   \n",
            "75%          1.000000  2.022123e+07  3.686314e+08       3.947026e+08   \n",
            "max          1.000000  2.023010e+07  1.592372e+10       1.594342e+10   \n",
            "\n",
            "       shortInterestFloat  FinancialSector  FinancialRisk  \n",
            "count          414.000000       415.000000     415.000000  \n",
            "mean             0.039076         0.354217       0.049077  \n",
            "std              0.039058         0.478853       0.117747  \n",
            "min              0.002825         0.000000      -0.102909  \n",
            "25%              0.015174         0.000000       0.000000  \n",
            "50%              0.026484         0.000000       0.000000  \n",
            "75%              0.049398         1.000000       0.060544  \n",
            "max              0.287963         1.000000       0.998330  \n",
            "\n",
            "[8 rows x 63 columns]\n",
            "                                                      url  \\\n",
            "ticker                                                      \n",
            "FICO    https://seekingalpha.com/article/4649507-fair-...   \n",
            "RXRX    https://seekingalpha.com/earnings/earnings-cal...   \n",
            "BLDR    https://seekingalpha.com/article/4645938-build...   \n",
            "JKHY    https://seekingalpha.com/article/4649242-jack-...   \n",
            "OC      https://seekingalpha.com/article/4643409-owens...   \n",
            "\n",
            "                                          call_transcript    VWAP  \\\n",
            "ticker                                                              \n",
            "FICO    Fair Isaac Corporation (FICO) Q4 2023 Earnings...  700.83   \n",
            "RXRX    Earnings Call Transcripts | Seeking Alpha\\n\\n\\...    6.67   \n",
            "BLDR    Builders FirstSource, Inc. (BLDR) Q3 2023 Earn...   88.34   \n",
            "JKHY    Jack Henry & Associates, Inc. (JKHY) Q1 2024 E...  150.47   \n",
            "OC      Owens Corning (OC) Q3 2023 Earnings Call Trans...   95.47   \n",
            "\n",
            "       exchangeCountry        securityType         CIK  \\\n",
            "ticker                                                   \n",
            "FICO               USA  Common or ordinary  0000814547   \n",
            "RXRX               USA  Common or ordinary  0001601830   \n",
            "BLDR               USA  Common or ordinary  0001316835   \n",
            "JKHY               USA  Common or ordinary  0000779152   \n",
            "OC                 USA  Common or ordinary  0001370946   \n",
            "\n",
            "                                  name  securityID incorporationCountry  \\\n",
            "ticker                                                                    \n",
            "FICO            Fair Isaac Corporation   138240101                  USA   \n",
            "RXRX    Recursion Pharmaceauticals Inc   384740101                  USA   \n",
            "BLDR          Builders FirstSource Inc  1630360101                  USA   \n",
            "JKHY     Henry (Jack) & Associates Inc   118110101                  USA   \n",
            "OC                       Owens Corning    82140601                  USA   \n",
            "\n",
            "                   exchangeName  ... Working Capital  \\\n",
            "ticker                           ...                   \n",
            "FICO    New York Stock Exchange  ...        5.063632   \n",
            "RXRX        Nasdaq Stock Market  ...        2.528944   \n",
            "BLDR    New York Stock Exchange  ...       11.272943   \n",
            "JKHY        Nasdaq Stock Market  ...        0.843418   \n",
            "OC      New York Stock Exchange  ...       15.414013   \n",
            "\n",
            "                                      businessDescription   close  \\\n",
            "ticker                                                              \n",
            "FICO    Fair Isaac Corporation develops analytic, soft...  598.58   \n",
            "RXRX    Recursion Pharmaceuticals, Inc. operates as a ...    7.71   \n",
            "BLDR    Builders FirstSource, Inc., together with its ...   64.88   \n",
            "JKHY    Jack Henry & Associates, Inc., a financial tec...  175.56   \n",
            "OC      Owens Corning engages in manufacture and sale ...   85.30   \n",
            "\n",
            "        dividendFactor  fiscalDint  floatShares  outstandingShares  \\\n",
            "ticker                                                               \n",
            "FICO          1.000000    20221231   24272216.0         25154000.0   \n",
            "RXRX          1.000000    20221231  117933131.0        174072906.0   \n",
            "BLDR          1.000000    20221231  146461116.0        148994000.0   \n",
            "JKHY          0.989936    20221231   72430647.0         72910225.0   \n",
            "OC            0.980838    20221231   94098317.0         94700000.0   \n",
            "\n",
            "        shortInterestFloat  FinancialSector  FinancialRisk  \n",
            "ticker                                                      \n",
            "FICO              0.033322                0            0.0  \n",
            "RXRX              0.130693                0            0.0  \n",
            "BLDR              0.040739                0            0.0  \n",
            "JKHY              0.030052                0            0.0  \n",
            "OC                0.038574                0            0.0  \n",
            "\n",
            "[5 rows x 73 columns]\n"
          ]
        }
      ]
    },
    {
      "cell_type": "code",
      "source": [
        "import seaborn as sns\n",
        "import matplotlib.pyplot as plt"
      ],
      "metadata": {
        "id": "5zQD-RnalTaL"
      },
      "execution_count": null,
      "outputs": []
    },
    {
      "cell_type": "code",
      "source": [
        "# Visualize the distribution of the target variable\n",
        "sns.countplot(x='FinancialSector', data=df_train)\n",
        "plt.title('Distribution of Financial Sector')\n",
        "plt.show()"
      ],
      "metadata": {
        "colab": {
          "base_uri": "https://localhost:8080/",
          "height": 472
        },
        "id": "IyQh2u2PlKiM",
        "outputId": "51ccb040-0fec-4d57-e261-4755cb93ba68"
      },
      "execution_count": null,
      "outputs": [
        {
          "output_type": "display_data",
          "data": {
            "text/plain": [
              "<Figure size 640x480 with 1 Axes>"
            ],
            "image/png": "[encoded data removed]"
          },
          "metadata": {}
        }
      ]
    },
    {
      "cell_type": "code",
      "source": [
        "# Analyze text feature\n",
        "df_train['businessDescription'].str.len().hist()\n",
        "plt.title('Distribution of Business Description Length')\n",
        "plt.show()"
      ],
      "metadata": {
        "colab": {
          "base_uri": "https://localhost:8080/",
          "height": 452
        },
        "id": "9ehw3blLlgB5",
        "outputId": "11688e3f-0d95-4d0d-95b4-29a52bbbeb4d"
      },
      "execution_count": null,
      "outputs": [
        {
          "output_type": "display_data",
          "data": {
            "text/plain": [
              "<Figure size 640x480 with 1 Axes>"
            ],
            "image/png": "[encoded data removed]"
          },
          "metadata": {}
        }
      ]
    },
    {
      "cell_type": "markdown",
      "source": [
        "Feature Selection"
      ],
      "metadata": {
        "id": "LtLblbV6nxSU"
      }
    },
    {
      "cell_type": "code",
      "source": [
        "import pandas as pd\n",
        "import numpy as np\n",
        "from sklearn.feature_selection import SelectKBest, f_regression\n",
        "from sklearn.impute import SimpleImputer\n",
        "from sklearn.preprocessing import StandardScaler\n",
        "from sklearn.ensemble import RandomForestRegressor\n",
        "\n",
        "# Assuming df_train is your training dataset\n",
        "\n",
        "# Select relevant features for analysis\n",
        "selected_features = [\n",
        "    'VWAP', 'Accrual Ratio', 'B/P', 'CF/P', 'Capital Expenditure', 'Cash', 'Debt/Equity', 'Depreciation',\n",
        "    'Dividend', 'E/P', 'EBIT', 'EBIT/P', 'EBIT/TEV', 'Earnings','Earnings Growth (1Y)','Earnings Growth (2Y)','Earnings Growth (3Y)', 'Earnings Growth (4Y)', 'Earnings Growth (5Y)', 'Earnings Variability',\n",
        "    'Equity', 'FCF', 'FCF/P', 'Income Tax', 'Interest Expense', 'Long Liabilities', 'Long Term Debt', 'Market Cap',\n",
        "    'Operating Cash Flow', 'Operating Expense', 'Operating Income', 'Operating Income Before Depreciation',\n",
        "    'Operating Margin', 'Profit Margin', 'R&D', 'ROA', 'ROE', 'S/P', 'SG&A', 'Sales', 'Sales Growth (1Y)','Sales Growth (2Y)','Sales Growth (3Y)', 'Sales Growth (4Y)', 'Sales Growth (5Y)',\n",
        "    'Sales Variability', 'Short Term Debt', 'TEV', 'Working Capital'\n",
        "]\n",
        "\n",
        "# Extract selected features in the training set\n",
        "df_train_selected = df_train[selected_features + ['FinancialSector']]\n",
        "\n",
        "# Handle missing values with imputation\n",
        "numeric_imputer = SimpleImputer(strategy='mean')\n",
        "df_train_selected[selected_features] = numeric_imputer.fit_transform(df_train_selected[selected_features])\n",
        "\n",
        "# Separate features and target variable\n",
        "X_train = df_train_selected[selected_features]\n",
        "y_train = df_train_selected['FinancialSector']\n",
        "\n",
        "# Standardize numeric features\n",
        "scaler = StandardScaler()\n",
        "X_train[selected_features] = scaler.fit_transform(X_train[selected_features])\n",
        "\n",
        "# Select K best features based on correlation with the target variable\n",
        "selector = SelectKBest(score_func=f_regression, k=15)  # You can adjust the value of k as needed\n",
        "X_train_selected = selector.fit_transform(X_train, y_train)\n",
        "\n",
        "# Get the selected feature names\n",
        "selected_feature_names = X_train.columns[selector.get_support()]\n",
        "\n",
        "# Train a model to see feature importance\n",
        "model = RandomForestRegressor(random_state=42)\n",
        "model.fit(X_train_selected, y_train)\n",
        "\n",
        "# Get feature importances\n",
        "feature_importances = model.feature_importances_\n",
        "\n",
        "# Create a DataFrame with feature names and importances\n",
        "feature_importance_df = pd.DataFrame({'Feature': selected_feature_names, 'Importance': feature_importances})\n",
        "\n",
        "# Display or save the feature importance DataFrame\n",
        "print(feature_importance_df)\n"
      ],
      "metadata": {
        "colab": {
          "base_uri": "https://localhost:8080/"
        },
        "id": "V7dNH8QJnziX",
        "outputId": "3cb06573-c487-48de-aaa3-ca0e9556adc0"
      },
      "execution_count": null,
      "outputs": [
        {
          "output_type": "stream",
          "name": "stderr",
          "text": [
            "<ipython-input-8-94b4c0c7534e>:25: SettingWithCopyWarning: \n",
            "A value is trying to be set on a copy of a slice from a DataFrame.\n",
            "Try using .loc[row_indexer,col_indexer] = value instead\n",
            "\n",
            "See the caveats in the documentation: https://pandas.pydata.org/pandas-docs/stable/user_guide/indexing.html#returning-a-view-versus-a-copy\n",
            "  df_train_selected[selected_features] = numeric_imputer.fit_transform(df_train_selected[selected_features])\n",
            "<ipython-input-8-94b4c0c7534e>:33: SettingWithCopyWarning: \n",
            "A value is trying to be set on a copy of a slice from a DataFrame.\n",
            "Try using .loc[row_indexer,col_indexer] = value instead\n",
            "\n",
            "See the caveats in the documentation: https://pandas.pydata.org/pandas-docs/stable/user_guide/indexing.html#returning-a-view-versus-a-copy\n",
            "  X_train[selected_features] = scaler.fit_transform(X_train[selected_features])\n"
          ]
        },
        {
          "output_type": "stream",
          "name": "stdout",
          "text": [
            "                 Feature  Importance\n",
            "0                    B/P    0.014371\n",
            "1                   CF/P    0.016333\n",
            "2    Capital Expenditure    0.040841\n",
            "3           Depreciation    0.108493\n",
            "4   Earnings Growth (3Y)    0.022311\n",
            "5   Earnings Growth (5Y)    0.012899\n",
            "6                  FCF/P    0.011037\n",
            "7       Long Liabilities    0.362171\n",
            "8      Operating Expense    0.042569\n",
            "9                    R&D    0.006208\n",
            "10                  SG&A    0.117956\n",
            "11                 Sales    0.018740\n",
            "12     Sales Growth (4Y)    0.013936\n",
            "13       Short Term Debt    0.014845\n",
            "14       Working Capital    0.197290\n"
          ]
        }
      ]
    },
    {
      "cell_type": "markdown",
      "source": [
        "Classification"
      ],
      "metadata": {
        "id": "nJZ_rogjlrsz"
      }
    },
    {
      "cell_type": "code",
      "source": [
        "# Select features; will be using all features with .1 or higher importance score as well as businessDescription\n",
        "#Feature Selection\n",
        "\n",
        "selected_features = ['businessDescription', 'Depreciation', 'Long Liabilities', 'SG&A', 'Working Capital']\n",
        "\n",
        "# Create feature matrix and target variable\n",
        "X_train = df_train[selected_features]\n",
        "y_train = df_train['FinancialSector']\n",
        "X_test = df_test[selected_features]\n"
      ],
      "metadata": {
        "id": "mXFHECovltpq"
      },
      "execution_count": null,
      "outputs": []
    },
    {
      "cell_type": "code",
      "source": [
        "from sklearn.feature_extraction.text import TfidfVectorizer\n",
        "\n",
        "# Text feature processing\n",
        "vectorizer = TfidfVectorizer(max_features=5000, stop_words='english')\n",
        "X_train_text = vectorizer.fit_transform(X_train['businessDescription'])\n",
        "X_test_text = vectorizer.transform(X_test['businessDescription'])\n"
      ],
      "metadata": {
        "id": "ic47ChW8l9pA"
      },
      "execution_count": null,
      "outputs": []
    },
    {
      "cell_type": "code",
      "source": [
        "from scipy.sparse import hstack\n",
        "\n",
        "# Combine features\n",
        "X_train_combined = hstack([X_train_text, X_train.drop('businessDescription', axis=1)])\n",
        "X_test_combined = hstack([X_test_text, X_test.drop('businessDescription', axis=1)])\n"
      ],
      "metadata": {
        "id": "9kxnLo4nmLE4"
      },
      "execution_count": null,
      "outputs": []
    },
    {
      "cell_type": "code",
      "source": [
        "from sklearn.ensemble import RandomForestClassifier\n",
        "from sklearn.model_selection import train_test_split\n",
        "from sklearn.metrics import accuracy_score\n",
        "\n",
        "# Split the training data for validation\n",
        "X_train_split, X_val_split, y_train_split, y_val_split = train_test_split(X_train_combined, y_train, test_size=0.2, random_state=42)\n",
        "\n",
        "# Train a Random Forest Classifier\n",
        "clf = RandomForestClassifier(random_state=42)\n",
        "clf.fit(X_train_split, y_train_split)\n",
        "\n",
        "# Validate the model\n",
        "val_predictions = clf.predict(X_val_split)\n",
        "accuracy = accuracy_score(y_val_split, val_predictions)\n",
        "print(f'Validation Accuracy: {accuracy}')\n"
      ],
      "metadata": {
        "colab": {
          "base_uri": "https://localhost:8080/"
        },
        "id": "EZZF67ZWmOrg",
        "outputId": "61ad1377-f400-4fa3-aa1c-923a539c6397"
      },
      "execution_count": null,
      "outputs": [
        {
          "output_type": "stream",
          "name": "stdout",
          "text": [
            "Validation Accuracy: 0.963855421686747\n"
          ]
        }
      ]
    },
    {
      "cell_type": "code",
      "source": [
        "# Make predictions on the test set\n",
        "test_predictions = clf.predict(X_test_combined)\n",
        "\n",
        "# Assign predictions to the test dataset\n",
        "df_test['FinancialSector'] = test_predictions\n"
      ],
      "metadata": {
        "id": "1y1gSOYamUXy"
      },
      "execution_count": null,
      "outputs": []
    },
    {
      "cell_type": "code",
      "source": [
        "df_test_dropcall = df_test.drop('call_transcript', axis=1)\n",
        "df_test_dropcall.to_csv('Classification_try2.csv', index=True)"
      ],
      "metadata": {
        "id": "iteoquEhmedS"
      },
      "execution_count": null,
      "outputs": []
    },
    {
      "cell_type": "markdown",
      "source": [
        "Fine Tuning Hyper Paremeters"
      ],
      "metadata": {
        "id": "4VtKXDchniI8"
      }
    },
    {
      "cell_type": "markdown",
      "source": [
        "Using Grid Search"
      ],
      "metadata": {
        "id": "dBlhZKo4oBtc"
      }
    },
    {
      "cell_type": "code",
      "source": [
        "from sklearn.model_selection import GridSearchCV\n",
        "\n",
        "# Define the parameter grid\n",
        "param_grid = {\n",
        "    'n_estimators': [50, 100, 150],\n",
        "    'max_depth': [None, 10, 20, 30],\n",
        "    'min_samples_split': [2, 5, 10],\n",
        "    'min_samples_leaf': [1, 2, 4]\n",
        "}\n",
        "\n",
        "# Create the grid search model\n",
        "grid_search = GridSearchCV(estimator=RandomForestClassifier(random_state=42),\n",
        "                           param_grid=param_grid,\n",
        "                           cv=3,  # Adjust the number of folds as needed\n",
        "                           scoring='accuracy',\n",
        "                           verbose=2,\n",
        "                           n_jobs=-1)\n",
        "\n",
        "# Fit the grid search to the data\n",
        "grid_search.fit(X_train_combined, y_train)\n",
        "\n",
        "# Print the best parameters\n",
        "print(\"Best Parameters:\", grid_search.best_params_)\n"
      ],
      "metadata": {
        "colab": {
          "base_uri": "https://localhost:8080/"
        },
        "id": "NR-qVniqnhwA",
        "outputId": "92895505-5398-4665-8ef8-2112036ce419"
      },
      "execution_count": null,
      "outputs": [
        {
          "output_type": "stream",
          "name": "stdout",
          "text": [
            "Fitting 3 folds for each of 108 candidates, totalling 324 fits\n",
            "Best Parameters: {'max_depth': None, 'min_samples_leaf': 1, 'min_samples_split': 2, 'n_estimators': 150}\n"
          ]
        }
      ]
    },
    {
      "cell_type": "code",
      "source": [
        "best_params = grid_search.best_params_\n",
        "\n",
        "final_model = RandomForestClassifier(random_state=42, **best_params)\n",
        "final_model.fit(X_train_combined, y_train)\n",
        "\n",
        "# Make predictions on the test set\n",
        "test_predictions = final_model.predict(X_test_combined)\n",
        "\n",
        "# Assign predictions to the test dataset\n",
        "df_test['FinancialSector'] = test_predictions\n"
      ],
      "metadata": {
        "id": "3x1wctTNn-kh"
      },
      "execution_count": null,
      "outputs": []
    },
    {
      "cell_type": "code",
      "source": [
        "df_test_dropcall = df_test.drop('call_transcript', axis=1)\n",
        "df_test_dropcall.to_csv('Classification_gridsearch.csv', index=True)"
      ],
      "metadata": {
        "id": "FJM7MaLOoEW3"
      },
      "execution_count": null,
      "outputs": []
    },
    {
      "cell_type": "markdown",
      "source": [
        "Model Assessment"
      ],
      "metadata": {
        "id": "oUFkUVXGp3El"
      }
    },
    {
      "cell_type": "code",
      "source": [
        "from sklearn.metrics import accuracy_score, classification_report, confusion_matrix\n",
        "\n",
        "# the true labels for the test set in y_test\n",
        "y_test = df_test['FinancialSector']\n",
        "\n",
        "# Calculate predictions\n",
        "test_predictions = final_model.predict(X_test_combined)\n",
        "\n",
        "# Evaluate accuracy\n",
        "accuracy = accuracy_score(y_test, test_predictions)\n",
        "print(f\"Accuracy: {accuracy:.4f}\")\n",
        "\n",
        "# Display classification report\n",
        "print(\"\\nClassification Report:\")\n",
        "print(classification_report(y_test, test_predictions))\n",
        "\n",
        "# Display confusion matrix\n",
        "conf_matrix = confusion_matrix(y_test, test_predictions)\n",
        "print(\"\\nConfusion Matrix:\")\n",
        "print(conf_matrix)\n"
      ],
      "metadata": {
        "colab": {
          "base_uri": "https://localhost:8080/"
        },
        "id": "-Stid65dp4zG",
        "outputId": "33906901-a8a2-4eea-9961-cff35ff86ecd"
      },
      "execution_count": null,
      "outputs": [
        {
          "output_type": "stream",
          "name": "stdout",
          "text": [
            "Accuracy: 1.0000\n",
            "\n",
            "Classification Report:\n",
            "              precision    recall  f1-score   support\n",
            "\n",
            "           0       1.00      1.00      1.00        59\n",
            "           1       1.00      1.00      1.00        45\n",
            "\n",
            "    accuracy                           1.00       104\n",
            "   macro avg       1.00      1.00      1.00       104\n",
            "weighted avg       1.00      1.00      1.00       104\n",
            "\n",
            "\n",
            "Confusion Matrix:\n",
            "[[59  0]\n",
            " [ 0 45]]\n"
          ]
        }
      ]
    },
    {
      "cell_type": "markdown",
      "source": [
        "Moving into Kaggle Regression Competition"
      ],
      "metadata": {
        "id": "yIvXEB_-xBIa"
      }
    },
    {
      "cell_type": "markdown",
      "source": [
        "EDA of Financial Risk"
      ],
      "metadata": {
        "id": "4eOEYW0gsgSh"
      }
    },
    {
      "cell_type": "code",
      "source": [
        "# Display basic statistics of 'FinancialRisk'\n",
        "print(df_train['FinancialRisk'].describe())"
      ],
      "metadata": {
        "colab": {
          "base_uri": "https://localhost:8080/"
        },
        "id": "IllbrpGIszWD",
        "outputId": "22faf879-eaf2-4624-f5df-6a4cce522a62"
      },
      "execution_count": null,
      "outputs": [
        {
          "output_type": "stream",
          "name": "stdout",
          "text": [
            "count    415.000000\n",
            "mean       0.049077\n",
            "std        0.117747\n",
            "min       -0.102909\n",
            "25%        0.000000\n",
            "50%        0.000000\n",
            "75%        0.060544\n",
            "max        0.998330\n",
            "Name: FinancialRisk, dtype: float64\n"
          ]
        }
      ]
    },
    {
      "cell_type": "code",
      "source": [
        "# Check for class imbalance\n",
        "class_counts = df_train['FinancialRisk'].value_counts()\n",
        "print('Class Counts:\\n', class_counts)"
      ],
      "metadata": {
        "colab": {
          "base_uri": "https://localhost:8080/"
        },
        "id": "BmWHFmJOtE0q",
        "outputId": "0b6669af-e7ed-4fda-cab6-46a2980772de"
      },
      "execution_count": null,
      "outputs": [
        {
          "output_type": "stream",
          "name": "stdout",
          "text": [
            "Class Counts:\n",
            "  0.000000    268\n",
            " 0.196409      1\n",
            " 0.052267      1\n",
            "-0.014358      1\n",
            " 0.094662      1\n",
            "            ... \n",
            " 0.341410      1\n",
            " 0.175727      1\n",
            " 0.065527      1\n",
            " 0.202973      1\n",
            " 0.089905      1\n",
            "Name: FinancialRisk, Length: 148, dtype: int64\n"
          ]
        }
      ]
    },
    {
      "cell_type": "markdown",
      "source": [
        "Feature Selection"
      ],
      "metadata": {
        "id": "uZtAvPwNxpcg"
      }
    },
    {
      "cell_type": "code",
      "source": [
        "# Visualize the correlation between 'FinancialRisk' and other numeric features\n",
        "plt.figure(figsize=(12, 8))\n",
        "sns.heatmap(df_train.corr()[['FinancialRisk']].sort_values(by='FinancialRisk', ascending=False),\n",
        "            annot=True, cmap='coolwarm', vmin=-1, vmax=1)\n",
        "plt.title('Correlation with FinancialRisk')\n",
        "plt.show()"
      ],
      "metadata": {
        "colab": {
          "base_uri": "https://localhost:8080/",
          "height": 755
        },
        "id": "-v8djWi5tOHB",
        "outputId": "13d43564-6ae5-43a8-bd5a-d6268ea1a424"
      },
      "execution_count": null,
      "outputs": [
        {
          "output_type": "stream",
          "name": "stderr",
          "text": [
            "<ipython-input-28-2b6ad4dd1b7d>:3: FutureWarning: The default value of numeric_only in DataFrame.corr is deprecated. In a future version, it will default to False. Select only valid columns or specify the value of numeric_only to silence this warning.\n",
            "  sns.heatmap(df_train.corr()[['FinancialRisk']].sort_values(by='FinancialRisk', ascending=False),\n"
          ]
        },
        {
          "output_type": "display_data",
          "data": {
            "text/plain": [
              "<Figure size 1200x800 with 2 Axes>"
            ],
            "image/png": "[encoded data removed]"
          },
          "metadata": {}
        }
      ]
    },
    {
      "cell_type": "code",
      "source": [
        "import pandas as pd\n",
        "import numpy as np\n",
        "from sklearn.feature_selection import SelectKBest, f_regression\n",
        "from sklearn.impute import SimpleImputer\n",
        "from sklearn.preprocessing import StandardScaler\n",
        "from sklearn.ensemble import RandomForestRegressor\n",
        "\n",
        "# Assuming df_train is your training dataset\n",
        "\n",
        "# Select relevant features for analysis\n",
        "selected_features = [\n",
        "    'VWAP', 'Accrual Ratio', 'B/P', 'CF/P', 'Capital Expenditure', 'Cash', 'Debt/Equity', 'Depreciation',\n",
        "    'Dividend', 'E/P', 'EBIT', 'EBIT/P', 'EBIT/TEV', 'Earnings','Earnings Growth (1Y)','Earnings Growth (2Y)','Earnings Growth (3Y)', 'Earnings Growth (4Y)', 'Earnings Growth (5Y)', 'Earnings Variability',\n",
        "    'Equity', 'FCF', 'FCF/P', 'Income Tax', 'Interest Expense', 'Long Liabilities', 'Long Term Debt', 'Market Cap',\n",
        "    'Operating Cash Flow', 'Operating Expense', 'Operating Income', 'Operating Income Before Depreciation',\n",
        "    'Operating Margin', 'Profit Margin', 'R&D', 'ROA', 'ROE', 'S/P', 'SG&A', 'Sales', 'Sales Growth (1Y)','Sales Growth (2Y)','Sales Growth (3Y)', 'Sales Growth (4Y)', 'Sales Growth (5Y)',\n",
        "    'Sales Variability', 'Short Term Debt', 'TEV', 'Working Capital'\n",
        "]\n",
        "\n",
        "# Extract selected features in the training set\n",
        "df_train_selected = df_train[selected_features + ['FinancialRisk']]\n",
        "\n",
        "# Handle missing values with imputation\n",
        "numeric_imputer = SimpleImputer(strategy='mean')\n",
        "df_train_selected[selected_features] = numeric_imputer.fit_transform(df_train_selected[selected_features])\n",
        "\n",
        "# Separate features and target variable\n",
        "X_train = df_train_selected[selected_features]\n",
        "y_train = df_train_selected['FinancialRisk']\n",
        "\n",
        "# Standardize numeric features\n",
        "scaler = StandardScaler()\n",
        "X_train[selected_features] = scaler.fit_transform(X_train[selected_features])\n",
        "\n",
        "# Select K best features based on correlation with the target variable\n",
        "selector = SelectKBest(score_func=f_regression, k=15)  # You can adjust the value of k as needed\n",
        "X_train_selected = selector.fit_transform(X_train, y_train)\n",
        "\n",
        "# Get the selected feature names\n",
        "selected_feature_names = X_train.columns[selector.get_support()]\n",
        "\n",
        "# Train a model to see feature importance\n",
        "model = RandomForestRegressor(random_state=42)\n",
        "model.fit(X_train_selected, y_train)\n",
        "\n",
        "# Get feature importances\n",
        "feature_importances = model.feature_importances_\n",
        "\n",
        "# Create a DataFrame with feature names and importances\n",
        "feature_importance_df = pd.DataFrame({'Feature': selected_feature_names, 'Importance': feature_importances})\n",
        "\n",
        "# Display or save the feature importance DataFrame\n",
        "print(feature_importance_df)\n"
      ],
      "metadata": {
        "colab": {
          "base_uri": "https://localhost:8080/"
        },
        "id": "1qQMZKP9sY7j",
        "outputId": "5c9edea3-b436-4031-bf25-93615e197e64"
      },
      "execution_count": null,
      "outputs": [
        {
          "output_type": "stream",
          "name": "stderr",
          "text": [
            "<ipython-input-29-8d3fd26fd187>:25: SettingWithCopyWarning: \n",
            "A value is trying to be set on a copy of a slice from a DataFrame.\n",
            "Try using .loc[row_indexer,col_indexer] = value instead\n",
            "\n",
            "See the caveats in the documentation: https://pandas.pydata.org/pandas-docs/stable/user_guide/indexing.html#returning-a-view-versus-a-copy\n",
            "  df_train_selected[selected_features] = numeric_imputer.fit_transform(df_train_selected[selected_features])\n",
            "<ipython-input-29-8d3fd26fd187>:33: SettingWithCopyWarning: \n",
            "A value is trying to be set on a copy of a slice from a DataFrame.\n",
            "Try using .loc[row_indexer,col_indexer] = value instead\n",
            "\n",
            "See the caveats in the documentation: https://pandas.pydata.org/pandas-docs/stable/user_guide/indexing.html#returning-a-view-versus-a-copy\n",
            "  X_train[selected_features] = scaler.fit_transform(X_train[selected_features])\n"
          ]
        },
        {
          "output_type": "stream",
          "name": "stdout",
          "text": [
            "                Feature  Importance\n",
            "0                  VWAP    0.340014\n",
            "1                   B/P    0.013030\n",
            "2                  CF/P    0.015685\n",
            "3   Capital Expenditure    0.025541\n",
            "4                  Cash    0.015220\n",
            "5          Depreciation    0.048214\n",
            "6                   E/P    0.021737\n",
            "7                EBIT/P    0.013120\n",
            "8              EBIT/TEV    0.030090\n",
            "9                Equity    0.033188\n",
            "10                FCF/P    0.019405\n",
            "11     Long Liabilities    0.332712\n",
            "12                  R&D    0.000113\n",
            "13      Short Term Debt    0.072800\n",
            "14      Working Capital    0.019129\n"
          ]
        }
      ]
    },
    {
      "cell_type": "markdown",
      "source": [
        "Running Regression with RandomForest"
      ],
      "metadata": {
        "id": "bUrDuiua3SfH"
      }
    },
    {
      "cell_type": "code",
      "source": [
        "import pandas as pd\n",
        "from sklearn.model_selection import train_test_split\n",
        "from sklearn.ensemble import RandomForestRegressor\n",
        "from sklearn.impute import SimpleImputer\n",
        "from sklearn.preprocessing import StandardScaler\n",
        "from sklearn.metrics import mean_squared_error, r2_score\n",
        "from sklearn.model_selection import cross_val_score\n",
        "\n",
        "# Assuming df_train contains the target variable 'FinancialRisk'\n",
        "# and df_test is missing the 'FinancialRisk' column\n",
        "\n",
        "# Selecting features with moderate or higher importance scores\n",
        "selected_features = ['VWAP', 'Long Liabilities', 'Short Term Debt']\n",
        "\n",
        "# Concatenating selected features with additional necessary columns\n",
        "selected_features = ['FinancialSector'] + selected_features\n",
        "df_train_selected = df_train[selected_features + ['FinancialRisk']].copy()\n",
        "df_test_selected = df_test[selected_features].copy()\n",
        "\n",
        "# Handling missing values using SimpleImputer\n",
        "numeric_imputer = SimpleImputer(strategy='mean')\n",
        "df_train_selected[selected_features] = numeric_imputer.fit_transform(df_train_selected[selected_features])\n",
        "df_test_selected[selected_features] = numeric_imputer.transform(df_test_selected[selected_features])\n",
        "\n",
        "# Standardizing numeric features using StandardScaler\n",
        "scaler = StandardScaler()\n",
        "df_train_selected[selected_features] = scaler.fit_transform(df_train_selected[selected_features])\n",
        "df_test_selected[selected_features] = scaler.transform(df_test_selected[selected_features])\n",
        "\n",
        "# Extracting features and target variable\n",
        "X_train = df_train_selected[selected_features]\n",
        "y_train = df_train_selected['FinancialRisk']\n",
        "X_test = df_test_selected[selected_features]\n",
        "\n",
        "# Train a RandomForestRegressor\n",
        "model = RandomForestRegressor(random_state=42)\n",
        "model.fit(X_train, y_train)\n",
        "\n",
        "# Predict on the test set\n",
        "test_predictions = model.predict(X_test)\n",
        "\n",
        "# Set FinancialRisk to 0 for companies not in the financial sector\n",
        "test_predictions[df_test['FinancialSector'] == 0] = 0\n",
        "\n",
        "# Assigning risk score between 0 and 1\n",
        "test_predictions = test_predictions.clip(0, 1)\n",
        "\n",
        "# Assigning risk score between 0 and 1\n",
        "df_test['FinancialRisk'] = test_predictions\n",
        "\n",
        "# Display or save the updated df_test with the predicted 'FinancialRisk' column\n",
        "print(df_test[['FinancialSector', 'FinancialRisk']])\n",
        "\n",
        "# Evaluate the model performance\n",
        "mse = mean_squared_error(y_train, model.predict(X_train))\n",
        "r2 = r2_score(y_train, model.predict(X_train))\n",
        "cv_scores = cross_val_score(model, X_train, y_train, cv=5)\n",
        "\n",
        "print(f'Mean Squared Error on Training Set: {mse}')\n",
        "print(f'R-squared on Training Set: {r2}')\n",
        "print(f'Cross-validated R-squared scores: {cv_scores}')\n"
      ],
      "metadata": {
        "colab": {
          "base_uri": "https://localhost:8080/"
        },
        "id": "LSVSo-YCy9eR",
        "outputId": "c554a55c-15b2-40a1-c6b2-e30fc1c867f9"
      },
      "execution_count": null,
      "outputs": [
        {
          "output_type": "stream",
          "name": "stdout",
          "text": [
            "        FinancialSector  FinancialRisk\n",
            "ticker                                \n",
            "JAZZ                  0       0.000000\n",
            "WAL                   1       0.335520\n",
            "PGR                   1       0.053290\n",
            "ARES                  1       0.055076\n",
            "CBSH                  1       0.099922\n",
            "...                 ...            ...\n",
            "CMCSA                 0       0.000000\n",
            "PNNT                  1       0.050070\n",
            "ORLY                  0       0.000000\n",
            "PRI                   1       0.004465\n",
            "FIVE                  0       0.000000\n",
            "\n",
            "[104 rows x 2 columns]\n",
            "Mean Squared Error on Training Set: 0.0005657044875897339\n",
            "R-squared on Training Set: 0.959098536487506\n",
            "Cross-validated R-squared scores: [0.79527902 0.77992084 0.78959127 0.6262989  0.63606547]\n"
          ]
        }
      ]
    },
    {
      "cell_type": "code",
      "source": [
        "df_test_dropcall = df_test.drop('call_transcript', axis=1)\n",
        "df_test_dropcall.to_csv('Regression_Random_Forest.csv', index=True)"
      ],
      "metadata": {
        "id": "knViKjYl14xd"
      },
      "execution_count": null,
      "outputs": []
    },
    {
      "cell_type": "markdown",
      "source": [
        "Running Regression with XGboost"
      ],
      "metadata": {
        "id": "p36xf0HR3Xha"
      }
    },
    {
      "cell_type": "code",
      "source": [
        "import xgboost as xgb\n",
        "import pandas as pd\n",
        "from sklearn.model_selection import train_test_split\n",
        "from sklearn.ensemble import RandomForestRegressor\n",
        "from sklearn.impute import SimpleImputer\n",
        "from sklearn.preprocessing import StandardScaler\n",
        "from sklearn.metrics import mean_squared_error\n",
        "\n",
        "# Assuming df_train contains the target variable 'FinancialRisk'\n",
        "# and df_test is missing the 'FinancialRisk' column\n",
        "\n",
        "# Selecting features with moderate or higher importance scores\n",
        "selected_features = ['VWAP','Long Liabilities', 'Short Term Debt', 'Preferred Stock', 'Depreciation']\n",
        "\n",
        "# Concatenating selected features with additional necessary columns\n",
        "selected_features = ['FinancialSector'] + selected_features\n",
        "df_train_selected = df_train[selected_features + ['FinancialRisk']].copy()\n",
        "df_test_selected = df_test[selected_features].copy()\n",
        "\n",
        "# Handling missing values using SimpleImputer\n",
        "numeric_imputer = SimpleImputer(strategy='mean')\n",
        "df_train_selected[selected_features] = numeric_imputer.fit_transform(df_train_selected[selected_features])\n",
        "df_test_selected[selected_features] = numeric_imputer.transform(df_test_selected[selected_features])\n",
        "\n",
        "# Standardizing numeric features using StandardScaler\n",
        "scaler = StandardScaler()\n",
        "df_train_selected[selected_features] = scaler.fit_transform(df_train_selected[selected_features])\n",
        "df_test_selected[selected_features] = scaler.transform(df_test_selected[selected_features])\n",
        "\n",
        "# Extracting features and target variable\n",
        "X_train = df_train_selected[selected_features]\n",
        "y_train = df_train_selected['FinancialRisk']\n",
        "X_test = df_test_selected[selected_features]\n",
        "\n",
        "\n",
        "# Step 4: Model Selection\n",
        "model = xgb.XGBRegressor(random_state=42)\n",
        "\n",
        "# Step 5: Model Training\n",
        "model.fit(X_train, y_train)\n",
        "\n",
        "# Use the trained model to predict the 'FinancialRisk' for df_test\n",
        "test_predictions = model.predict(X_test)\n",
        "\n",
        "# Set FinancialRisk to 0 for companies not in the financial sector\n",
        "test_predictions[df_test['FinancialSector'] == 0] = 0\n",
        "\n",
        "# Assigning risk score between 0 and 1\n",
        "test_predictions = test_predictions.clip(0, 1)\n",
        "\n",
        "# Append the modified 'FinancialRisk' column to df_test\n",
        "df_test['FinancialRisk'] = test_predictions\n",
        "\n",
        "# Display or save the updated df_test with the corrected 'FinancialRisk' column\n",
        "print(df_test[['FinancialSector', 'FinancialRisk']])"
      ],
      "metadata": {
        "colab": {
          "base_uri": "https://localhost:8080/"
        },
        "id": "5IhP-iyK3RG4",
        "outputId": "91966ed5-b3f0-4158-9c92-000863503eaf"
      },
      "execution_count": null,
      "outputs": [
        {
          "output_type": "stream",
          "name": "stdout",
          "text": [
            "        FinancialSector  FinancialRisk\n",
            "ticker                                \n",
            "JAZZ                  0       0.000000\n",
            "WAL                   1       0.341215\n",
            "PGR                   1       0.042472\n",
            "ARES                  1       0.058044\n",
            "CBSH                  1       0.099003\n",
            "...                 ...            ...\n",
            "CMCSA                 0       0.000000\n",
            "PNNT                  1       0.037030\n",
            "ORLY                  0       0.000000\n",
            "PRI                   1       0.015019\n",
            "FIVE                  0       0.000000\n",
            "\n",
            "[104 rows x 2 columns]\n"
          ]
        }
      ]
    },
    {
      "cell_type": "code",
      "source": [
        "# Evaluate the model performance\n",
        "mse = mean_squared_error(y_train, model.predict(X_train))\n",
        "r2 = r2_score(y_train, model.predict(X_train))\n",
        "cv_scores = cross_val_score(model, X_train, y_train, cv=5)\n",
        "\n",
        "print(f'Mean Squared Error on Training Set: {mse}')\n",
        "print(f'R-squared on Training Set: {r2}')\n",
        "print(f'Cross-validated R-squared scores: {cv_scores}')\n",
        "\n"
      ],
      "metadata": {
        "colab": {
          "base_uri": "https://localhost:8080/"
        },
        "id": "ejEzgroQbw5p",
        "outputId": "78202e39-2c04-4002-dfb7-f2cb124d366f"
      },
      "execution_count": null,
      "outputs": [
        {
          "output_type": "stream",
          "name": "stdout",
          "text": [
            "Mean Squared Error on Training Set: 1.3713937957166785e-06\n",
            "R-squared on Training Set: 0.9999008457338994\n",
            "Cross-validated R-squared scores: [0.81085732 0.75257687 0.28209983 0.46983295 0.64070443]\n"
          ]
        }
      ]
    },
    {
      "cell_type": "code",
      "source": [
        "df_test_dropcall = df_test.drop('call_transcript', axis=1)\n",
        "df_test_dropcall.to_csv('Regression_XGBoost.csv', index=True)"
      ],
      "metadata": {
        "id": "BSWNALdQ3iVm"
      },
      "execution_count": null,
      "outputs": []
    },
    {
      "cell_type": "markdown",
      "source": [
        "Fine tuning XGBoost HyperParameters"
      ],
      "metadata": {
        "id": "9QWKDiyN39ud"
      }
    },
    {
      "cell_type": "code",
      "source": [
        "import xgboost as xgb\n",
        "from sklearn.model_selection import GridSearchCV\n",
        "\n",
        "# Step 4: Model Selection\n",
        "model = xgb.XGBRegressor(random_state=42)\n",
        "\n",
        "# Define hyperparameters to tune\n",
        "param_grid = {\n",
        "    'n_estimators': [50, 100, 150],\n",
        "    'learning_rate': [0.01, 0.1, 0.2],\n",
        "    'max_depth': [3, 5, 7],\n",
        "    'subsample': [0.8, 0.9, 1.0],\n",
        "}\n",
        "\n",
        "# Step 5: Hyperparameter Tuning\n",
        "grid_search = GridSearchCV(model, param_grid, cv=5, scoring='neg_mean_squared_error')\n",
        "grid_search.fit(X_train, y_train)\n",
        "\n",
        "# Get the best hyperparameters\n",
        "best_params = grid_search.best_params_\n",
        "print(\"Best Hyperparameters:\", best_params)\n",
        "\n",
        "# Use the best model to predict the 'FinancialRisk' for df_test\n",
        "best_model = grid_search.best_estimator_\n",
        "test_predictions = best_model.predict(X_test)\n",
        "\n",
        "# Set FinancialRisk to 0 for companies not in the financial sector\n",
        "test_predictions[df_test['FinancialSector'] == 0] = 0\n",
        "\n",
        "# Assigning risk score between 0 and 1\n",
        "test_predictions = test_predictions.clip(0, 1)\n",
        "\n",
        "# Append the modified 'FinancialRisk' column to df_test\n",
        "df_test['FinancialRisk'] = test_predictions\n",
        "\n",
        "# Display or save the updated df_test with the corrected 'FinancialRisk' column\n",
        "print(df_test[['FinancialSector', 'FinancialRisk']])"
      ],
      "metadata": {
        "colab": {
          "base_uri": "https://localhost:8080/"
        },
        "id": "Y_enIpzd4AXM",
        "outputId": "f4856467-7364-4605-c9d9-b9890f0fde8d"
      },
      "execution_count": null,
      "outputs": [
        {
          "output_type": "stream",
          "name": "stdout",
          "text": [
            "Best Hyperparameters: {'learning_rate': 0.1, 'max_depth': 3, 'n_estimators': 150, 'subsample': 0.8}\n",
            "        FinancialSector  FinancialRisk\n",
            "ticker                                \n",
            "JAZZ                  0       0.000000\n",
            "WAL                   1       0.337803\n",
            "PGR                   1       0.045155\n",
            "ARES                  1       0.036228\n",
            "CBSH                  1       0.096157\n",
            "...                 ...            ...\n",
            "CMCSA                 0       0.000000\n",
            "PNNT                  1       0.049022\n",
            "ORLY                  0       0.000000\n",
            "PRI                   1       0.068285\n",
            "FIVE                  0       0.000000\n",
            "\n",
            "[104 rows x 2 columns]\n"
          ]
        }
      ]
    },
    {
      "cell_type": "code",
      "source": [
        "# Analyze feature importance\n",
        "feature_importances = best_model.feature_importances_\n",
        "feature_names = X_train.columns\n",
        "\n",
        "# Create a DataFrame with feature names and importances\n",
        "feature_importance_df = pd.DataFrame({'Feature': feature_names, 'Importance': feature_importances})\n",
        "\n",
        "# Sort the DataFrame by importance in descending order\n",
        "feature_importance_df = feature_importance_df.sort_values(by='Importance', ascending=False)\n",
        "\n",
        "# Plotting the top features\n",
        "plt.figure(figsize=(10, 6))\n",
        "plt.barh(feature_importance_df['Feature'], feature_importance_df['Importance'])\n",
        "plt.xlabel('Importance')\n",
        "plt.title('Feature Importance')\n",
        "plt.show()"
      ],
      "metadata": {
        "colab": {
          "base_uri": "https://localhost:8080/",
          "height": 564
        },
        "id": "JcqY8MRbUXHG",
        "outputId": "238ab47a-fa91-45f1-b934-0a63f003feb0"
      },
      "execution_count": null,
      "outputs": [
        {
          "output_type": "display_data",
          "data": {
            "text/plain": [
              "<Figure size 1000x600 with 1 Axes>"
            ],
            "image/png": "[encoded data removed]"
          },
          "metadata": {}
        }
      ]
    },
    {
      "cell_type": "code",
      "source": [
        "feature_importance_df.head()"
      ],
      "metadata": {
        "colab": {
          "base_uri": "https://localhost:8080/",
          "height": 206
        },
        "id": "8-KIvQujUkNL",
        "outputId": "90695f3c-dc98-4e01-ac3e-e88818214546"
      },
      "execution_count": null,
      "outputs": [
        {
          "output_type": "execute_result",
          "data": {
            "text/plain": [
              "            Feature  Importance\n",
              "0   FinancialSector    0.352798\n",
              "1              VWAP    0.304323\n",
              "2  Long Liabilities    0.196776\n",
              "4   Preferred Stock    0.058357\n",
              "5      Depreciation    0.049671"
            ],
            "text/html": [
              "\n",
              "  <div id=\"df-b85a4fc1-db1e-4b5d-adaa-018aa68d6a8b\" class=\"colab-df-container\">\n",
              "    <div>\n",
              "<style scoped>\n",
              "    .dataframe tbody tr th:only-of-type {\n",
              "        vertical-align: middle;\n",
              "    }\n",
              "\n",
              "    .dataframe tbody tr th {\n",
              "        vertical-align: top;\n",
              "    }\n",
              "\n",
              "    .dataframe thead th {\n",
              "        text-align: right;\n",
              "    }\n",
              "</style>\n",
              "<table border=\"1\" class=\"dataframe\">\n",
              "  <thead>\n",
              "    <tr style=\"text-align: right;\">\n",
              "      <th></th>\n",
              "      <th>Feature</th>\n",
              "      <th>Importance</th>\n",
              "    </tr>\n",
              "  </thead>\n",
              "  <tbody>\n",
              "    <tr>\n",
              "      <th>0</th>\n",
              "      <td>FinancialSector</td>\n",
              "      <td>0.352798</td>\n",
              "    </tr>\n",
              "    <tr>\n",
              "      <th>1</th>\n",
              "      <td>VWAP</td>\n",
              "      <td>0.304323</td>\n",
              "    </tr>\n",
              "    <tr>\n",
              "      <th>2</th>\n",
              "      <td>Long Liabilities</td>\n",
              "      <td>0.196776</td>\n",
              "    </tr>\n",
              "    <tr>\n",
              "      <th>4</th>\n",
              "      <td>Preferred Stock</td>\n",
              "      <td>0.058357</td>\n",
              "    </tr>\n",
              "    <tr>\n",
              "      <th>5</th>\n",
              "      <td>Depreciation</td>\n",
              "      <td>0.049671</td>\n",
              "    </tr>\n",
              "  </tbody>\n",
              "</table>\n",
              "</div>\n",
              "    <div class=\"colab-df-buttons\">\n",
              "\n",
              "  <div class=\"colab-df-container\">\n",
              "    <button class=\"colab-df-convert\" onclick=\"convertToInteractive('df-b85a4fc1-db1e-4b5d-adaa-018aa68d6a8b')\"\n",
              "            title=\"Convert this dataframe to an interactive table.\"\n",
              "            style=\"display:none;\">\n",
              "\n",
              "  <svg xmlns=\"http://www.w3.org/2000/svg\" height=\"24px\" viewBox=\"0 -960 960 960\">\n",
              "    <path d=\"M120-120v-720h720v720H120Zm60-500h600v-160H180v160Zm220 220h160v-160H400v160Zm0 220h160v-160H400v160ZM180-400h160v-160H180v160Zm440 0h160v-160H620v160ZM180-180h160v-160H180v160Zm440 0h160v-160H620v160Z\"/>\n",
              "  </svg>\n",
              "    </button>\n",
              "\n",
              "  <style>\n",
              "    .colab-df-container {\n",
              "      display:flex;\n",
              "      gap: 12px;\n",
              "    }\n",
              "\n",
              "    .colab-df-convert {\n",
              "      background-color: #E8F0FE;\n",
              "      border: none;\n",
              "      border-radius: 50%;\n",
              "      cursor: pointer;\n",
              "      display: none;\n",
              "      fill: #1967D2;\n",
              "      height: 32px;\n",
              "      padding: 0 0 0 0;\n",
              "      width: 32px;\n",
              "    }\n",
              "\n",
              "    .colab-df-convert:hover {\n",
              "      background-color: #E2EBFA;\n",
              "      box-shadow: 0px 1px 2px rgba(60, 64, 67, 0.3), 0px 1px 3px 1px rgba(60, 64, 67, 0.15);\n",
              "      fill: #174EA6;\n",
              "    }\n",
              "\n",
              "    .colab-df-buttons div {\n",
              "      margin-bottom: 4px;\n",
              "    }\n",
              "\n",
              "    [theme=dark] .colab-df-convert {\n",
              "      background-color: #3B4455;\n",
              "      fill: #D2E3FC;\n",
              "    }\n",
              "\n",
              "    [theme=dark] .colab-df-convert:hover {\n",
              "      background-color: #434B5C;\n",
              "      box-shadow: 0px 1px 3px 1px rgba(0, 0, 0, 0.15);\n",
              "      filter: drop-shadow(0px 1px 2px rgba(0, 0, 0, 0.3));\n",
              "      fill: #FFFFFF;\n",
              "    }\n",
              "  </style>\n",
              "\n",
              "    <script>\n",
              "      const buttonEl =\n",
              "        document.querySelector('#df-b85a4fc1-db1e-4b5d-adaa-018aa68d6a8b button.colab-df-convert');\n",
              "      buttonEl.style.display =\n",
              "        google.colab.kernel.accessAllowed ? 'block' : 'none';\n",
              "\n",
              "      async function convertToInteractive(key) {\n",
              "        const element = document.querySelector('#df-b85a4fc1-db1e-4b5d-adaa-018aa68d6a8b');\n",
              "        const dataTable =\n",
              "          await google.colab.kernel.invokeFunction('convertToInteractive',\n",
              "                                                    [key], {});\n",
              "        if (!dataTable) return;\n",
              "\n",
              "        const docLinkHtml = 'Like what you see? Visit the ' +\n",
              "          '<a target=\"_blank\" href=https://colab.research.google.com/notebooks/data_table.ipynb>data table notebook</a>'\n",
              "          + ' to learn more about interactive tables.';\n",
              "        element.innerHTML = '';\n",
              "        dataTable['output_type'] = 'display_data';\n",
              "        await google.colab.output.renderOutput(dataTable, element);\n",
              "        const docLink = document.createElement('div');\n",
              "        docLink.innerHTML = docLinkHtml;\n",
              "        element.appendChild(docLink);\n",
              "      }\n",
              "    </script>\n",
              "  </div>\n",
              "\n",
              "\n",
              "<div id=\"df-eef81555-63d0-4269-9a74-c0db2c6d9dc0\">\n",
              "  <button class=\"colab-df-quickchart\" onclick=\"quickchart('df-eef81555-63d0-4269-9a74-c0db2c6d9dc0')\"\n",
              "            title=\"Suggest charts\"\n",
              "            style=\"display:none;\">\n",
              "\n",
              "<svg xmlns=\"http://www.w3.org/2000/svg\" height=\"24px\"viewBox=\"0 0 24 24\"\n",
              "     width=\"24px\">\n",
              "    <g>\n",
              "        <path d=\"M19 3H5c-1.1 0-2 .9-2 2v14c0 1.1.9 2 2 2h14c1.1 0 2-.9 2-2V5c0-1.1-.9-2-2-2zM9 17H7v-7h2v7zm4 0h-2V7h2v10zm4 0h-2v-4h2v4z\"/>\n",
              "    </g>\n",
              "</svg>\n",
              "  </button>\n",
              "\n",
              "<style>\n",
              "  .colab-df-quickchart {\n",
              "      --bg-color: #E8F0FE;\n",
              "      --fill-color: #1967D2;\n",
              "      --hover-bg-color: #E2EBFA;\n",
              "      --hover-fill-color: #174EA6;\n",
              "      --disabled-fill-color: #AAA;\n",
              "      --disabled-bg-color: #DDD;\n",
              "  }\n",
              "\n",
              "  [theme=dark] .colab-df-quickchart {\n",
              "      --bg-color: #3B4455;\n",
              "      --fill-color: #D2E3FC;\n",
              "      --hover-bg-color: #434B5C;\n",
              "      --hover-fill-color: #FFFFFF;\n",
              "      --disabled-bg-color: #3B4455;\n",
              "      --disabled-fill-color: #666;\n",
              "  }\n",
              "\n",
              "  .colab-df-quickchart {\n",
              "    background-color: var(--bg-color);\n",
              "    border: none;\n",
              "    border-radius: 50%;\n",
              "    cursor: pointer;\n",
              "    display: none;\n",
              "    fill: var(--fill-color);\n",
              "    height: 32px;\n",
              "    padding: 0;\n",
              "    width: 32px;\n",
              "  }\n",
              "\n",
              "  .colab-df-quickchart:hover {\n",
              "    background-color: var(--hover-bg-color);\n",
              "    box-shadow: 0 1px 2px rgba(60, 64, 67, 0.3), 0 1px 3px 1px rgba(60, 64, 67, 0.15);\n",
              "    fill: var(--button-hover-fill-color);\n",
              "  }\n",
              "\n",
              "  .colab-df-quickchart-complete:disabled,\n",
              "  .colab-df-quickchart-complete:disabled:hover {\n",
              "    background-color: var(--disabled-bg-color);\n",
              "    fill: var(--disabled-fill-color);\n",
              "    box-shadow: none;\n",
              "  }\n",
              "\n",
              "  .colab-df-spinner {\n",
              "    border: 2px solid var(--fill-color);\n",
              "    border-color: transparent;\n",
              "    border-bottom-color: var(--fill-color);\n",
              "    animation:\n",
              "      spin 1s steps(1) infinite;\n",
              "  }\n",
              "\n",
              "  @keyframes spin {\n",
              "    0% {\n",
              "      border-color: transparent;\n",
              "      border-bottom-color: var(--fill-color);\n",
              "      border-left-color: var(--fill-color);\n",
              "    }\n",
              "    20% {\n",
              "      border-color: transparent;\n",
              "      border-left-color: var(--fill-color);\n",
              "      border-top-color: var(--fill-color);\n",
              "    }\n",
              "    30% {\n",
              "      border-color: transparent;\n",
              "      border-left-color: var(--fill-color);\n",
              "      border-top-color: var(--fill-color);\n",
              "      border-right-color: var(--fill-color);\n",
              "    }\n",
              "    40% {\n",
              "      border-color: transparent;\n",
              "      border-right-color: var(--fill-color);\n",
              "      border-top-color: var(--fill-color);\n",
              "    }\n",
              "    60% {\n",
              "      border-color: transparent;\n",
              "      border-right-color: var(--fill-color);\n",
              "    }\n",
              "    80% {\n",
              "      border-color: transparent;\n",
              "      border-right-color: var(--fill-color);\n",
              "      border-bottom-color: var(--fill-color);\n",
              "    }\n",
              "    90% {\n",
              "      border-color: transparent;\n",
              "      border-bottom-color: var(--fill-color);\n",
              "    }\n",
              "  }\n",
              "</style>\n",
              "\n",
              "  <script>\n",
              "    async function quickchart(key) {\n",
              "      const quickchartButtonEl =\n",
              "        document.querySelector('#' + key + ' button');\n",
              "      quickchartButtonEl.disabled = true;  // To prevent multiple clicks.\n",
              "      quickchartButtonEl.classList.add('colab-df-spinner');\n",
              "      try {\n",
              "        const charts = await google.colab.kernel.invokeFunction(\n",
              "            'suggestCharts', [key], {});\n",
              "      } catch (error) {\n",
              "        console.error('Error during call to suggestCharts:', error);\n",
              "      }\n",
              "      quickchartButtonEl.classList.remove('colab-df-spinner');\n",
              "      quickchartButtonEl.classList.add('colab-df-quickchart-complete');\n",
              "    }\n",
              "    (() => {\n",
              "      let quickchartButtonEl =\n",
              "        document.querySelector('#df-eef81555-63d0-4269-9a74-c0db2c6d9dc0 button');\n",
              "      quickchartButtonEl.style.display =\n",
              "        google.colab.kernel.accessAllowed ? 'block' : 'none';\n",
              "    })();\n",
              "  </script>\n",
              "</div>\n",
              "    </div>\n",
              "  </div>\n"
            ]
          },
          "metadata": {},
          "execution_count": 40
        }
      ]
    },
    {
      "cell_type": "code",
      "source": [
        "import matplotlib.pyplot as plt\n",
        "\n",
        "# Assuming y_train is a pandas Series or NumPy array\n",
        "actual_values = y_train\n",
        "predicted_values = best_model.predict(X_train)\n",
        "\n",
        "plt.scatter(actual_values, predicted_values, c='blue', label='Actual vs. Predicted')\n",
        "plt.plot([min(actual_values), max(actual_values)], [min(actual_values), max(actual_values)], linestyle='--', color='red', label='Perfect Prediction')\n",
        "plt.xlabel('Actual Values')\n",
        "plt.ylabel('Predicted Values')\n",
        "plt.title('Actual vs. Predicted Plot')\n",
        "plt.legend()\n",
        "plt.show()\n"
      ],
      "metadata": {
        "colab": {
          "base_uri": "https://localhost:8080/",
          "height": 472
        },
        "id": "oiUgNekbkLZH",
        "outputId": "2140539f-0e88-41c4-8520-5bda1bf04864"
      },
      "execution_count": null,
      "outputs": [
        {
          "output_type": "display_data",
          "data": {
            "text/plain": [
              "<Figure size 640x480 with 1 Axes>"
            ],
            "image/png": "[encoded data removed]"
          },
          "metadata": {}
        }
      ]
    },
    {
      "cell_type": "code",
      "source": [
        "# Evaluate the model performance\n",
        "mse = mean_squared_error(y_train, best_model.predict(X_train))\n",
        "r2 = r2_score(y_train, best_model.predict(X_train))\n",
        "cv_scores = cross_val_score(best_model, X_train, y_train, cv=5)\n",
        "\n",
        "print(f'Mean Squared Error on Training Set: {mse}')\n",
        "print(f'R-squared on Training Set: {r2}')\n",
        "print(f'Cross-validated R-squared scores: {cv_scores}')\n",
        "\n"
      ],
      "metadata": {
        "colab": {
          "base_uri": "https://localhost:8080/"
        },
        "id": "BCNo1x11fKop",
        "outputId": "bde511f2-b071-42ca-fd96-fcedb44acbe5"
      },
      "execution_count": null,
      "outputs": [
        {
          "output_type": "stream",
          "name": "stdout",
          "text": [
            "Mean Squared Error on Training Set: 0.00025509227519958697\n",
            "R-squared on Training Set: 0.981556364470699\n",
            "Cross-validated R-squared scores: [0.84940408 0.78920616 0.54097938 0.64879583 0.72453188]\n"
          ]
        }
      ]
    },
    {
      "cell_type": "code",
      "source": [],
      "metadata": {
        "id": "zwvlpPEyUVEl"
      },
      "execution_count": null,
      "outputs": []
    },
    {
      "cell_type": "code",
      "source": [
        "df_test_dropcall = df_test.drop('call_transcript', axis=1)\n",
        "df_test_dropcall.to_csv('Regression_XGBoost_FineTuned2.csv', index=True)"
      ],
      "metadata": {
        "id": "GG5yUhrW4xzT"
      },
      "execution_count": null,
      "outputs": []
    }
  ]
}