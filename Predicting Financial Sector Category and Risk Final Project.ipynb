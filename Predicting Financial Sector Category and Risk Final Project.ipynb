{
 "cells": [
  {
   "cell_type": "markdown",
   "metadata": {
    "id": "vp-NayaQI4YV"
   },
   "source": [
    "# Kaggle (Categorization)\n",
    "\n",
    "1. Jordan Adelphi. (2023). Navigating Financial Instability (Categorization). Kaggle. https://kaggle.com/competitions/navigating-financial-instability\n",
    "\n",
    "2. Jordan Adelphi. (2023). Navigating Financial Instability (Regression). Kaggle. https://kaggle.com/competitions/navigating-financial-instability-regression"
   ]
  },
  {
   "cell_type": "code",
   "execution_count": 2,
   "metadata": {},
   "outputs": [],
   "source": [
    "import pandas as pd\n",
    "from sklearn.model_selection import train_test_split\n",
    "from sklearn.ensemble import RandomForestClassifier\n",
    "from sklearn.feature_extraction.text import TfidfVectorizer\n",
    "import seaborn as sns\n",
    "import matplotlib.pyplot as plt\n",
    "from sklearn.feature_selection import SelectKBest, f_regression\n",
    "from sklearn.impute import SimpleImputer\n",
    "from sklearn.preprocessing import StandardScaler\n",
    "from sklearn.ensemble import RandomForestRegressor\n",
    "from scipy.sparse import hstack\n",
    "from sklearn.model_selection import train_test_split\n",
    "from sklearn.model_selection import GridSearchCV\n",
    "from sklearn.metrics import accuracy_score, classification_report, confusion_matrix\n",
    "import numpy as np\n",
    "from sklearn.metrics import mean_squared_error, r2_score\n",
    "from sklearn.model_selection import cross_val_score\n",
    "import xgboost as xgb"
   ]
  },
  {
   "cell_type": "code",
   "execution_count": 4,
   "metadata": {
    "colab": {
     "base_uri": "https://localhost:8080/"
    },
    "id": "MFOQBKeBI0jP",
    "outputId": "4e754b08-8680-45bc-dc49-55861812c40e"
   },
   "outputs": [
    {
     "data": {
      "text/plain": [
       "((415, 73), (104, 71))"
      ]
     },
     "execution_count": 4,
     "metadata": {},
     "output_type": "execute_result"
    }
   ],
   "source": [
    "df_test = pd.read_parquet(\"C:/Users/colet/Documents/Adelphi MABA/783 Advanced Business Analytics/20231124_Financial_Risk_Project_test_public.parquet\")\n",
    "df_train = pd.read_parquet(\"C:/Users/colet/Documents/Adelphi MABA/783 Advanced Business Analytics/20231124_Financial_Risk_Project_train.parquet\")\n",
    "\n",
    "df_train.shape, df_test.shape"
   ]
  },
  {
   "cell_type": "markdown",
   "metadata": {
    "id": "KrLLhY0XwA89"
   },
   "source": [
    "EDA of Financial Sector\n"
   ]
  },
  {
   "cell_type": "code",
   "execution_count": 6,
   "metadata": {
    "colab": {
     "base_uri": "https://localhost:8080/"
    },
    "id": "8qI00ddilCEh",
    "outputId": "4aa69165-e43c-4755-b961-b6bb6fc838e5"
   },
   "outputs": [
    {
     "name": "stdout",
     "output_type": "stream",
     "text": [
      "<class 'pandas.core.frame.DataFrame'>\n",
      "Index: 415 entries, FICO to GBCI\n",
      "Data columns (total 73 columns):\n",
      " #   Column                                Non-Null Count  Dtype  \n",
      "---  ------                                --------------  -----  \n",
      " 0   url                                   415 non-null    object \n",
      " 1   call_transcript                       415 non-null    object \n",
      " 2   VWAP                                  415 non-null    float64\n",
      " 3   exchangeCountry                       415 non-null    object \n",
      " 4   securityType                          415 non-null    object \n",
      " 5   CIK                                   415 non-null    object \n",
      " 6   name                                  415 non-null    object \n",
      " 7   securityID                            415 non-null    int64  \n",
      " 8   incorporationCountry                  415 non-null    object \n",
      " 9   exchangeName                          415 non-null    object \n",
      " 10  exchangeID                            412 non-null    object \n",
      " 11  Accrual Ratio                         415 non-null    float64\n",
      " 12  Assets                                415 non-null    float64\n",
      " 13  B/P                                   415 non-null    float64\n",
      " 14  CF/P                                  415 non-null    float64\n",
      " 15  Capital Expenditure                   415 non-null    float64\n",
      " 16  Cash                                  415 non-null    float64\n",
      " 17  Debt/Equity                           397 non-null    float64\n",
      " 18  Depreciation                          415 non-null    float64\n",
      " 19  Dividend                              415 non-null    float64\n",
      " 20  E/P                                   415 non-null    float64\n",
      " 21  EBIT                                  415 non-null    float64\n",
      " 22  EBIT/P                                415 non-null    float64\n",
      " 23  EBIT/TEV                              393 non-null    float64\n",
      " 24  Earnings                              415 non-null    float64\n",
      " 25  Earnings Growth (1Y)                  351 non-null    float64\n",
      " 26  Earnings Growth (2Y)                  277 non-null    float64\n",
      " 27  Earnings Growth (3Y)                  304 non-null    float64\n",
      " 28  Earnings Growth (4Y)                  307 non-null    float64\n",
      " 29  Earnings Growth (5Y)                  294 non-null    float64\n",
      " 30  Earnings Variability                  331 non-null    float64\n",
      " 31  Equity                                415 non-null    float64\n",
      " 32  FCF                                   415 non-null    float64\n",
      " 33  FCF/P                                 415 non-null    float64\n",
      " 34  Income Tax                            415 non-null    float64\n",
      " 35  Interest Expense                      415 non-null    float64\n",
      " 36  Long Liabilities                      415 non-null    float64\n",
      " 37  Long Term Debt                        415 non-null    float64\n",
      " 38  Market Cap                            415 non-null    float64\n",
      " 39  Minority Interest                     399 non-null    float64\n",
      " 40  Operating Cash Flow                   415 non-null    float64\n",
      " 41  Operating Expense                     415 non-null    float64\n",
      " 42  Operating Income                      415 non-null    float64\n",
      " 43  Operating Income Before Depreciation  415 non-null    float64\n",
      " 44  Operating Margin                      408 non-null    float64\n",
      " 45  Preferred Stock                       415 non-null    float64\n",
      " 46  Profit Margin                         408 non-null    float64\n",
      " 47  R&D                                   415 non-null    float64\n",
      " 48  R&D/Sales                             408 non-null    float64\n",
      " 49  ROA                                   415 non-null    float64\n",
      " 50  ROE                                   397 non-null    float64\n",
      " 51  S/P                                   415 non-null    float64\n",
      " 52  SG&A                                  415 non-null    float64\n",
      " 53  SG&A/Sales                            408 non-null    float64\n",
      " 54  Sales                                 415 non-null    float64\n",
      " 55  Sales Growth (1Y)                     399 non-null    float64\n",
      " 56  Sales Growth (2Y)                     382 non-null    float64\n",
      " 57  Sales Growth (3Y)                     369 non-null    float64\n",
      " 58  Sales Growth (4Y)                     360 non-null    float64\n",
      " 59  Sales Growth (5Y)                     355 non-null    float64\n",
      " 60  Sales Variability                     386 non-null    float64\n",
      " 61  Short Term Debt                       415 non-null    float64\n",
      " 62  TEV                                   399 non-null    float64\n",
      " 63  Working Capital                       415 non-null    float64\n",
      " 64  businessDescription                   415 non-null    object \n",
      " 65  close                                 415 non-null    float64\n",
      " 66  dividendFactor                        415 non-null    float64\n",
      " 67  fiscalDint                            415 non-null    int64  \n",
      " 68  floatShares                           415 non-null    float64\n",
      " 69  outstandingShares                     415 non-null    float64\n",
      " 70  shortInterestFloat                    414 non-null    float64\n",
      " 71  FinancialSector                       415 non-null    int64  \n",
      " 72  FinancialRisk                         415 non-null    float64\n",
      "dtypes: float64(60), int64(3), object(10)\n",
      "memory usage: 239.9+ KB\n",
      "None\n",
      "              VWAP    securityID  Accrual Ratio       Assets         B/P  \\\n",
      "count   415.000000  4.150000e+02     415.000000   415.000000  415.000000   \n",
      "mean    116.474308  5.659767e+08      -0.018919   200.850240    0.527509   \n",
      "std     216.885791  6.725897e+08       0.176063   408.857675    0.467866   \n",
      "min       0.199900  1.045040e+07      -3.202525     1.228840   -0.636664   \n",
      "25%      24.995000  1.020151e+08      -0.030362    37.962225    0.170290   \n",
      "50%      57.950000  2.615601e+08      -0.005417    78.088405    0.454349   \n",
      "75%     130.317500  6.539201e+08       0.018226   183.633250    0.763030   \n",
      "max    2648.960000  3.399650e+09       0.261432  4042.049341    3.750665   \n",
      "\n",
      "             CF/P  Capital Expenditure         Cash  Debt/Equity  \\\n",
      "count  415.000000           415.000000   415.000000   397.000000   \n",
      "mean     0.112481             2.303081    18.136927     1.914057   \n",
      "std      0.195024             4.525536    70.680449     7.141619   \n",
      "min     -0.775506             0.000000     0.000000     0.000000   \n",
      "25%      0.035302             0.123280     2.487505     0.337896   \n",
      "50%      0.079560             0.701300     5.497844     0.738463   \n",
      "75%      0.166526             2.418535    13.397640     1.463662   \n",
      "max      1.727142            57.515690  1309.060835   116.069725   \n",
      "\n",
      "       Depreciation  ...          TEV  Working Capital        close  \\\n",
      "count    415.000000  ...   399.000000       415.000000   415.000000   \n",
      "mean       1.930943  ...   132.510298         5.553125   110.817879   \n",
      "std        3.588728  ...   215.511729        17.098716   190.034596   \n",
      "min        0.000000  ...   -63.167179      -105.669178     1.830000   \n",
      "25%        0.123215  ...    37.830784         0.000000    27.245000   \n",
      "50%        0.810170  ...    75.609645         0.000000    61.350000   \n",
      "75%        2.658760  ...   153.935241         6.529998   130.060000   \n",
      "max       54.195690  ...  2924.920173       189.206644  2460.840000   \n",
      "\n",
      "       dividendFactor    fiscalDint   floatShares  outstandingShares  \\\n",
      "count      415.000000  4.150000e+02  4.150000e+02       4.150000e+02   \n",
      "mean         0.978670  2.022126e+07  5.162328e+08       5.584309e+08   \n",
      "std          0.025503  6.180495e+02  1.397186e+09       1.497614e+09   \n",
      "min          0.863362  2.022103e+07  1.305533e+07       1.365940e+07   \n",
      "25%          0.968785  2.022123e+07  7.171691e+07       7.712301e+07   \n",
      "50%          0.985036  2.022123e+07  1.518589e+08       1.665872e+08   \n",
      "75%          1.000000  2.022123e+07  3.686314e+08       3.947026e+08   \n",
      "max          1.000000  2.023010e+07  1.592372e+10       1.594342e+10   \n",
      "\n",
      "       shortInterestFloat  FinancialSector  FinancialRisk  \n",
      "count          414.000000       415.000000     415.000000  \n",
      "mean             0.039076         0.354217       0.049077  \n",
      "std              0.039058         0.478853       0.117747  \n",
      "min              0.002825         0.000000      -0.102909  \n",
      "25%              0.015174         0.000000       0.000000  \n",
      "50%              0.026484         0.000000       0.000000  \n",
      "75%              0.049398         1.000000       0.060544  \n",
      "max              0.287963         1.000000       0.998330  \n",
      "\n",
      "[8 rows x 63 columns]\n",
      "                                                      url  \\\n",
      "ticker                                                      \n",
      "FICO    https://seekingalpha.com/article/4649507-fair-...   \n",
      "RXRX    https://seekingalpha.com/earnings/earnings-cal...   \n",
      "BLDR    https://seekingalpha.com/article/4645938-build...   \n",
      "JKHY    https://seekingalpha.com/article/4649242-jack-...   \n",
      "OC      https://seekingalpha.com/article/4643409-owens...   \n",
      "\n",
      "                                          call_transcript    VWAP  \\\n",
      "ticker                                                              \n",
      "FICO    Fair Isaac Corporation (FICO) Q4 2023 Earnings...  700.83   \n",
      "RXRX    Earnings Call Transcripts | Seeking Alpha\\n\\n\\...    6.67   \n",
      "BLDR    Builders FirstSource, Inc. (BLDR) Q3 2023 Earn...   88.34   \n",
      "JKHY    Jack Henry & Associates, Inc. (JKHY) Q1 2024 E...  150.47   \n",
      "OC      Owens Corning (OC) Q3 2023 Earnings Call Trans...   95.47   \n",
      "\n",
      "       exchangeCountry        securityType         CIK  \\\n",
      "ticker                                                   \n",
      "FICO               USA  Common or ordinary  0000814547   \n",
      "RXRX               USA  Common or ordinary  0001601830   \n",
      "BLDR               USA  Common or ordinary  0001316835   \n",
      "JKHY               USA  Common or ordinary  0000779152   \n",
      "OC                 USA  Common or ordinary  0001370946   \n",
      "\n",
      "                                  name  securityID incorporationCountry  \\\n",
      "ticker                                                                    \n",
      "FICO            Fair Isaac Corporation   138240101                  USA   \n",
      "RXRX    Recursion Pharmaceauticals Inc   384740101                  USA   \n",
      "BLDR          Builders FirstSource Inc  1630360101                  USA   \n",
      "JKHY     Henry (Jack) & Associates Inc   118110101                  USA   \n",
      "OC                       Owens Corning    82140601                  USA   \n",
      "\n",
      "                   exchangeName  ... Working Capital  \\\n",
      "ticker                           ...                   \n",
      "FICO    New York Stock Exchange  ...        5.063632   \n",
      "RXRX        Nasdaq Stock Market  ...        2.528944   \n",
      "BLDR    New York Stock Exchange  ...       11.272943   \n",
      "JKHY        Nasdaq Stock Market  ...        0.843418   \n",
      "OC      New York Stock Exchange  ...       15.414013   \n",
      "\n",
      "                                      businessDescription   close  \\\n",
      "ticker                                                              \n",
      "FICO    Fair Isaac Corporation develops analytic, soft...  598.58   \n",
      "RXRX    Recursion Pharmaceuticals, Inc. operates as a ...    7.71   \n",
      "BLDR    Builders FirstSource, Inc., together with its ...   64.88   \n",
      "JKHY    Jack Henry & Associates, Inc., a financial tec...  175.56   \n",
      "OC      Owens Corning engages in manufacture and sale ...   85.30   \n",
      "\n",
      "        dividendFactor  fiscalDint  floatShares  outstandingShares  \\\n",
      "ticker                                                               \n",
      "FICO          1.000000    20221231   24272216.0         25154000.0   \n",
      "RXRX          1.000000    20221231  117933131.0        174072906.0   \n",
      "BLDR          1.000000    20221231  146461116.0        148994000.0   \n",
      "JKHY          0.989936    20221231   72430647.0         72910225.0   \n",
      "OC            0.980838    20221231   94098317.0         94700000.0   \n",
      "\n",
      "        shortInterestFloat  FinancialSector  FinancialRisk  \n",
      "ticker                                                      \n",
      "FICO              0.033322                0            0.0  \n",
      "RXRX              0.130693                0            0.0  \n",
      "BLDR              0.040739                0            0.0  \n",
      "JKHY              0.030052                0            0.0  \n",
      "OC                0.038574                0            0.0  \n",
      "\n",
      "[5 rows x 73 columns]\n"
     ]
    }
   ],
   "source": [
    "# Check basic information\n",
    "print(df_train.info())\n",
    "print(df_train.describe())\n",
    "print(df_train.head())"
   ]
  },
  {
   "cell_type": "code",
   "execution_count": 7,
   "metadata": {
    "colab": {
     "base_uri": "https://localhost:8080/",
     "height": 472
    },
    "id": "IyQh2u2PlKiM",
    "outputId": "51ccb040-0fec-4d57-e261-4755cb93ba68"
   },
   "outputs": [
    {
     "data": {
      "image/png": "[encoded data removed]",
      "text/plain": [
       "<Figure size 432x288 with 1 Axes>"
      ]
     },
     "metadata": {
      "needs_background": "light"
     },
     "output_type": "display_data"
    }
   ],
   "source": [
    "# Visualize the distribution of the target variable\n",
    "sns.countplot(x='FinancialSector', data=df_train)\n",
    "plt.title('Distribution of Financial Sector')\n",
    "plt.show()"
   ]
  },
  {
   "cell_type": "code",
   "execution_count": 8,
   "metadata": {
    "colab": {
     "base_uri": "https://localhost:8080/",
     "height": 452
    },
    "id": "9ehw3blLlgB5",
    "outputId": "11688e3f-0d95-4d0d-95b4-29a52bbbeb4d"
   },
   "outputs": [
    {
     "data": {
      "image/png": "[encoded data removed]",
      "text/plain": [
       "<Figure size 432x288 with 1 Axes>"
      ]
     },
     "metadata": {
      "needs_background": "light"
     },
     "output_type": "display_data"
    }
   ],
   "source": [
    "# Analyze text feature\n",
    "df_train['businessDescription'].str.len().hist()\n",
    "plt.title('Distribution of Business Description Length')\n",
    "plt.show()"
   ]
  },
  {
   "cell_type": "markdown",
   "metadata": {
    "id": "LtLblbV6nxSU"
   },
   "source": [
    "Feature Selection"
   ]
  },
  {
   "cell_type": "code",
   "execution_count": 9,
   "metadata": {
    "colab": {
     "base_uri": "https://localhost:8080/"
    },
    "id": "V7dNH8QJnziX",
    "outputId": "3cb06573-c487-48de-aaa3-ca0e9556adc0"
   },
   "outputs": [
    {
     "name": "stderr",
     "output_type": "stream",
     "text": [
      "C:\\Users\\colet\\AppData\\Local\\Temp\\ipykernel_28728\\3921763140.py:18: SettingWithCopyWarning: \n",
      "A value is trying to be set on a copy of a slice from a DataFrame.\n",
      "Try using .loc[row_indexer,col_indexer] = value instead\n",
      "\n",
      "See the caveats in the documentation: https://pandas.pydata.org/pandas-docs/stable/user_guide/indexing.html#returning-a-view-versus-a-copy\n",
      "  df_train_selected[selected_features] = numeric_imputer.fit_transform(df_train_selected[selected_features])\n",
      "C:\\Users\\colet\\AppData\\Local\\Temp\\ipykernel_28728\\3921763140.py:26: SettingWithCopyWarning: \n",
      "A value is trying to be set on a copy of a slice from a DataFrame.\n",
      "Try using .loc[row_indexer,col_indexer] = value instead\n",
      "\n",
      "See the caveats in the documentation: https://pandas.pydata.org/pandas-docs/stable/user_guide/indexing.html#returning-a-view-versus-a-copy\n",
      "  X_train[selected_features] = scaler.fit_transform(X_train[selected_features])\n"
     ]
    },
    {
     "name": "stdout",
     "output_type": "stream",
     "text": [
      "                 Feature  Importance\n",
      "0                    B/P    0.014371\n",
      "1                   CF/P    0.016333\n",
      "2    Capital Expenditure    0.040841\n",
      "3           Depreciation    0.108493\n",
      "4   Earnings Growth (3Y)    0.022311\n",
      "5   Earnings Growth (5Y)    0.012899\n",
      "6                  FCF/P    0.011037\n",
      "7       Long Liabilities    0.362171\n",
      "8      Operating Expense    0.042569\n",
      "9                    R&D    0.006208\n",
      "10                  SG&A    0.117956\n",
      "11                 Sales    0.018740\n",
      "12     Sales Growth (4Y)    0.013936\n",
      "13       Short Term Debt    0.014845\n",
      "14       Working Capital    0.197290\n"
     ]
    }
   ],
   "source": [
    "# Assuming df_train is your training dataset\n",
    "\n",
    "# Select relevant features for analysis\n",
    "selected_features = [\n",
    "    'VWAP', 'Accrual Ratio', 'B/P', 'CF/P', 'Capital Expenditure', 'Cash', 'Debt/Equity', 'Depreciation',\n",
    "    'Dividend', 'E/P', 'EBIT', 'EBIT/P', 'EBIT/TEV', 'Earnings','Earnings Growth (1Y)','Earnings Growth (2Y)','Earnings Growth (3Y)', 'Earnings Growth (4Y)', 'Earnings Growth (5Y)', 'Earnings Variability',\n",
    "    'Equity', 'FCF', 'FCF/P', 'Income Tax', 'Interest Expense', 'Long Liabilities', 'Long Term Debt', 'Market Cap',\n",
    "    'Operating Cash Flow', 'Operating Expense', 'Operating Income', 'Operating Income Before Depreciation',\n",
    "    'Operating Margin', 'Profit Margin', 'R&D', 'ROA', 'ROE', 'S/P', 'SG&A', 'Sales', 'Sales Growth (1Y)','Sales Growth (2Y)','Sales Growth (3Y)', 'Sales Growth (4Y)', 'Sales Growth (5Y)',\n",
    "    'Sales Variability', 'Short Term Debt', 'TEV', 'Working Capital'\n",
    "]\n",
    "\n",
    "# Extract selected features in the training set\n",
    "df_train_selected = df_train[selected_features + ['FinancialSector']]\n",
    "\n",
    "# Handle missing values with imputation\n",
    "numeric_imputer = SimpleImputer(strategy='mean')\n",
    "df_train_selected[selected_features] = numeric_imputer.fit_transform(df_train_selected[selected_features])\n",
    "\n",
    "# Separate features and target variable\n",
    "X_train = df_train_selected[selected_features]\n",
    "y_train = df_train_selected['FinancialSector']\n",
    "\n",
    "# Standardize numeric features\n",
    "scaler = StandardScaler()\n",
    "X_train[selected_features] = scaler.fit_transform(X_train[selected_features])\n",
    "\n",
    "# Select K best features based on correlation with the target variable\n",
    "selector = SelectKBest(score_func=f_regression, k=15)  # You can adjust the value of k as needed\n",
    "X_train_selected = selector.fit_transform(X_train, y_train)\n",
    "\n",
    "# Get the selected feature names\n",
    "selected_feature_names = X_train.columns[selector.get_support()]\n",
    "\n",
    "# Train a model to see feature importance\n",
    "model = RandomForestRegressor(random_state=42)\n",
    "model.fit(X_train_selected, y_train)\n",
    "\n",
    "# Get feature importances\n",
    "feature_importances = model.feature_importances_\n",
    "\n",
    "# Create a DataFrame with feature names and importances\n",
    "feature_importance_df = pd.DataFrame({'Feature': selected_feature_names, 'Importance': feature_importances})\n",
    "\n",
    "# Display or save the feature importance DataFrame\n",
    "print(feature_importance_df)\n"
   ]
  },
  {
   "cell_type": "markdown",
   "metadata": {
    "id": "nJZ_rogjlrsz"
   },
   "source": [
    "Classification"
   ]
  },
  {
   "cell_type": "code",
   "execution_count": 10,
   "metadata": {
    "id": "mXFHECovltpq"
   },
   "outputs": [],
   "source": [
    "# Select features; will be using all features with .1 or higher importance score as well as businessDescription\n",
    "#Feature Selection\n",
    "\n",
    "selected_features = ['businessDescription', 'Depreciation', 'Long Liabilities', 'SG&A', 'Working Capital']\n",
    "\n",
    "# Create feature matrix and target variable\n",
    "X_train = df_train[selected_features]\n",
    "y_train = df_train['FinancialSector']\n",
    "X_test = df_test[selected_features]\n"
   ]
  },
  {
   "cell_type": "code",
   "execution_count": 11,
   "metadata": {
    "id": "ic47ChW8l9pA"
   },
   "outputs": [],
   "source": [
    "# Text feature processing\n",
    "vectorizer = TfidfVectorizer(max_features=5000, stop_words='english')\n",
    "X_train_text = vectorizer.fit_transform(X_train['businessDescription'])\n",
    "X_test_text = vectorizer.transform(X_test['businessDescription'])\n"
   ]
  },
  {
   "cell_type": "code",
   "execution_count": 12,
   "metadata": {
    "id": "9kxnLo4nmLE4"
   },
   "outputs": [],
   "source": [
    "# Combine features\n",
    "X_train_combined = hstack([X_train_text, X_train.drop('businessDescription', axis=1)])\n",
    "X_test_combined = hstack([X_test_text, X_test.drop('businessDescription', axis=1)])\n"
   ]
  },
  {
   "cell_type": "code",
   "execution_count": 13,
   "metadata": {
    "colab": {
     "base_uri": "https://localhost:8080/"
    },
    "id": "EZZF67ZWmOrg",
    "outputId": "61ad1377-f400-4fa3-aa1c-923a539c6397"
   },
   "outputs": [
    {
     "name": "stdout",
     "output_type": "stream",
     "text": [
      "Validation Accuracy: 0.963855421686747\n"
     ]
    }
   ],
   "source": [
    "# Split the training data for validation\n",
    "X_train_split, X_val_split, y_train_split, y_val_split = train_test_split(X_train_combined, y_train, test_size=0.2, random_state=42)\n",
    "\n",
    "# Train a Random Forest Classifier\n",
    "clf = RandomForestClassifier(random_state=42)\n",
    "clf.fit(X_train_split, y_train_split)\n",
    "\n",
    "# Validate the model\n",
    "val_predictions = clf.predict(X_val_split)\n",
    "accuracy = accuracy_score(y_val_split, val_predictions)\n",
    "print(f'Validation Accuracy: {accuracy}')\n"
   ]
  },
  {
   "cell_type": "code",
   "execution_count": 14,
   "metadata": {
    "id": "1y1gSOYamUXy"
   },
   "outputs": [],
   "source": [
    "# Make predictions on the test set\n",
    "test_predictions = clf.predict(X_test_combined)\n",
    "\n",
    "# Assign predictions to the test dataset\n",
    "df_test['FinancialSector'] = test_predictions\n"
   ]
  },
  {
   "cell_type": "code",
   "execution_count": 15,
   "metadata": {
    "id": "iteoquEhmedS"
   },
   "outputs": [],
   "source": [
    "df_test_dropcall = df_test.drop('call_transcript', axis=1)\n",
    "df_test_dropcall.to_csv('Classification_try2.csv', index=True)"
   ]
  },
  {
   "cell_type": "markdown",
   "metadata": {
    "id": "4VtKXDchniI8"
   },
   "source": [
    "Fine Tuning Hyper Paremeters"
   ]
  },
  {
   "cell_type": "markdown",
   "metadata": {
    "id": "dBlhZKo4oBtc"
   },
   "source": [
    "Using Grid Search"
   ]
  },
  {
   "cell_type": "code",
   "execution_count": 16,
   "metadata": {
    "colab": {
     "base_uri": "https://localhost:8080/"
    },
    "id": "NR-qVniqnhwA",
    "outputId": "92895505-5398-4665-8ef8-2112036ce419"
   },
   "outputs": [
    {
     "name": "stdout",
     "output_type": "stream",
     "text": [
      "Fitting 3 folds for each of 108 candidates, totalling 324 fits\n",
      "Best Parameters: {'max_depth': None, 'min_samples_leaf': 1, 'min_samples_split': 2, 'n_estimators': 150}\n"
     ]
    }
   ],
   "source": [
    "# Define the parameter grid\n",
    "param_grid = {\n",
    "    'n_estimators': [50, 100, 150],\n",
    "    'max_depth': [None, 10, 20, 30],\n",
    "    'min_samples_split': [2, 5, 10],\n",
    "    'min_samples_leaf': [1, 2, 4]\n",
    "}\n",
    "\n",
    "# Create the grid search model\n",
    "grid_search = GridSearchCV(estimator=RandomForestClassifier(random_state=42),\n",
    "                           param_grid=param_grid,\n",
    "                           cv=3,  # Adjust the number of folds as needed\n",
    "                           scoring='accuracy',\n",
    "                           verbose=2,\n",
    "                           n_jobs=-1)\n",
    "\n",
    "# Fit the grid search to the data\n",
    "grid_search.fit(X_train_combined, y_train)\n",
    "\n",
    "# Print the best parameters\n",
    "print(\"Best Parameters:\", grid_search.best_params_)\n"
   ]
  },
  {
   "cell_type": "code",
   "execution_count": 17,
   "metadata": {
    "id": "3x1wctTNn-kh"
   },
   "outputs": [],
   "source": [
    "best_params = grid_search.best_params_\n",
    "\n",
    "final_model = RandomForestClassifier(random_state=42, **best_params)\n",
    "final_model.fit(X_train_combined, y_train)\n",
    "\n",
    "# Make predictions on the test set\n",
    "test_predictions = final_model.predict(X_test_combined)\n",
    "\n",
    "# Assign predictions to the test dataset\n",
    "df_test['FinancialSector'] = test_predictions\n"
   ]
  },
  {
   "cell_type": "code",
   "execution_count": 18,
   "metadata": {
    "id": "FJM7MaLOoEW3"
   },
   "outputs": [],
   "source": [
    "df_test_dropcall = df_test.drop('call_transcript', axis=1)\n",
    "df_test_dropcall.to_csv('Classification_gridsearch.csv', index=True)"
   ]
  },
  {
   "cell_type": "markdown",
   "metadata": {
    "id": "oUFkUVXGp3El"
   },
   "source": [
    "Model Assessment"
   ]
  },
  {
   "cell_type": "code",
   "execution_count": 19,
   "metadata": {
    "colab": {
     "base_uri": "https://localhost:8080/"
    },
    "id": "-Stid65dp4zG",
    "outputId": "33906901-a8a2-4eea-9961-cff35ff86ecd"
   },
   "outputs": [
    {
     "name": "stdout",
     "output_type": "stream",
     "text": [
      "Accuracy: 1.0000\n",
      "\n",
      "Classification Report:\n",
      "              precision    recall  f1-score   support\n",
      "\n",
      "           0       1.00      1.00      1.00        59\n",
      "           1       1.00      1.00      1.00        45\n",
      "\n",
      "    accuracy                           1.00       104\n",
      "   macro avg       1.00      1.00      1.00       104\n",
      "weighted avg       1.00      1.00      1.00       104\n",
      "\n",
      "\n",
      "Confusion Matrix:\n",
      "[[59  0]\n",
      " [ 0 45]]\n"
     ]
    }
   ],
   "source": [
    "# the true labels for the test set in y_test\n",
    "y_test = df_test['FinancialSector']\n",
    "\n",
    "# Calculate predictions\n",
    "test_predictions = final_model.predict(X_test_combined)\n",
    "\n",
    "# Evaluate accuracy\n",
    "accuracy = accuracy_score(y_test, test_predictions)\n",
    "print(f\"Accuracy: {accuracy:.4f}\")\n",
    "\n",
    "# Display classification report\n",
    "print(\"\\nClassification Report:\")\n",
    "print(classification_report(y_test, test_predictions))\n",
    "\n",
    "# Display confusion matrix\n",
    "conf_matrix = confusion_matrix(y_test, test_predictions)\n",
    "print(\"\\nConfusion Matrix:\")\n",
    "print(conf_matrix)\n"
   ]
  },
  {
   "cell_type": "markdown",
   "metadata": {
    "id": "yIvXEB_-xBIa"
   },
   "source": [
    "Moving into Kaggle Regression Competition"
   ]
  },
  {
   "cell_type": "markdown",
   "metadata": {
    "id": "4eOEYW0gsgSh"
   },
   "source": [
    "EDA of Financial Risk"
   ]
  },
  {
   "cell_type": "code",
   "execution_count": 20,
   "metadata": {
    "colab": {
     "base_uri": "https://localhost:8080/"
    },
    "id": "IllbrpGIszWD",
    "outputId": "22faf879-eaf2-4624-f5df-6a4cce522a62"
   },
   "outputs": [
    {
     "name": "stdout",
     "output_type": "stream",
     "text": [
      "count    415.000000\n",
      "mean       0.049077\n",
      "std        0.117747\n",
      "min       -0.102909\n",
      "25%        0.000000\n",
      "50%        0.000000\n",
      "75%        0.060544\n",
      "max        0.998330\n",
      "Name: FinancialRisk, dtype: float64\n"
     ]
    }
   ],
   "source": [
    "# Display basic statistics of 'FinancialRisk'\n",
    "print(df_train['FinancialRisk'].describe())"
   ]
  },
  {
   "cell_type": "code",
   "execution_count": 21,
   "metadata": {
    "colab": {
     "base_uri": "https://localhost:8080/"
    },
    "id": "BmWHFmJOtE0q",
    "outputId": "0b6669af-e7ed-4fda-cab6-46a2980772de"
   },
   "outputs": [
    {
     "name": "stdout",
     "output_type": "stream",
     "text": [
      "Class Counts:\n",
      "  0.000000    268\n",
      " 0.196409      1\n",
      " 0.052267      1\n",
      "-0.014358      1\n",
      " 0.094662      1\n",
      "            ... \n",
      " 0.341410      1\n",
      " 0.175727      1\n",
      " 0.065527      1\n",
      " 0.202973      1\n",
      " 0.089905      1\n",
      "Name: FinancialRisk, Length: 148, dtype: int64\n"
     ]
    }
   ],
   "source": [
    "# Check for class imbalance\n",
    "class_counts = df_train['FinancialRisk'].value_counts()\n",
    "print('Class Counts:\\n', class_counts)"
   ]
  },
  {
   "cell_type": "markdown",
   "metadata": {
    "id": "uZtAvPwNxpcg"
   },
   "source": [
    "Feature Selection"
   ]
  },
  {
   "cell_type": "code",
   "execution_count": 22,
   "metadata": {
    "colab": {
     "base_uri": "https://localhost:8080/",
     "height": 755
    },
    "id": "-v8djWi5tOHB",
    "outputId": "13d43564-6ae5-43a8-bd5a-d6268ea1a424"
   },
   "outputs": [
    {
     "data": {
      "image/png": "[encoded data removed]",
      "text/plain": [
       "<Figure size 864x576 with 2 Axes>"
      ]
     },
     "metadata": {
      "needs_background": "light"
     },
     "output_type": "display_data"
    }
   ],
   "source": [
    "# Visualize the correlation between 'FinancialRisk' and other numeric features\n",
    "plt.figure(figsize=(12, 8))\n",
    "sns.heatmap(df_train.corr()[['FinancialRisk']].sort_values(by='FinancialRisk', ascending=False),\n",
    "            annot=True, cmap='coolwarm', vmin=-1, vmax=1)\n",
    "plt.title('Correlation with FinancialRisk')\n",
    "plt.show()"
   ]
  },
  {
   "cell_type": "code",
   "execution_count": 23,
   "metadata": {
    "colab": {
     "base_uri": "https://localhost:8080/"
    },
    "id": "1qQMZKP9sY7j",
    "outputId": "5c9edea3-b436-4031-bf25-93615e197e64"
   },
   "outputs": [
    {
     "name": "stderr",
     "output_type": "stream",
     "text": [
      "C:\\Users\\colet\\AppData\\Local\\Temp\\ipykernel_28728\\3888365584.py:18: SettingWithCopyWarning: \n",
      "A value is trying to be set on a copy of a slice from a DataFrame.\n",
      "Try using .loc[row_indexer,col_indexer] = value instead\n",
      "\n",
      "See the caveats in the documentation: https://pandas.pydata.org/pandas-docs/stable/user_guide/indexing.html#returning-a-view-versus-a-copy\n",
      "  df_train_selected[selected_features] = numeric_imputer.fit_transform(df_train_selected[selected_features])\n",
      "C:\\Users\\colet\\AppData\\Local\\Temp\\ipykernel_28728\\3888365584.py:26: SettingWithCopyWarning: \n",
      "A value is trying to be set on a copy of a slice from a DataFrame.\n",
      "Try using .loc[row_indexer,col_indexer] = value instead\n",
      "\n",
      "See the caveats in the documentation: https://pandas.pydata.org/pandas-docs/stable/user_guide/indexing.html#returning-a-view-versus-a-copy\n",
      "  X_train[selected_features] = scaler.fit_transform(X_train[selected_features])\n"
     ]
    },
    {
     "name": "stdout",
     "output_type": "stream",
     "text": [
      "                Feature  Importance\n",
      "0                  VWAP    0.340014\n",
      "1                   B/P    0.013030\n",
      "2                  CF/P    0.015685\n",
      "3   Capital Expenditure    0.025541\n",
      "4                  Cash    0.015220\n",
      "5          Depreciation    0.048214\n",
      "6                   E/P    0.021737\n",
      "7                EBIT/P    0.013120\n",
      "8              EBIT/TEV    0.030090\n",
      "9                Equity    0.033188\n",
      "10                FCF/P    0.019405\n",
      "11     Long Liabilities    0.332712\n",
      "12                  R&D    0.000113\n",
      "13      Short Term Debt    0.072800\n",
      "14      Working Capital    0.019129\n"
     ]
    }
   ],
   "source": [
    "# Assuming df_train is your training dataset\n",
    "\n",
    "# Select relevant features for analysis\n",
    "selected_features = [\n",
    "    'VWAP', 'Accrual Ratio', 'B/P', 'CF/P', 'Capital Expenditure', 'Cash', 'Debt/Equity', 'Depreciation',\n",
    "    'Dividend', 'E/P', 'EBIT', 'EBIT/P', 'EBIT/TEV', 'Earnings','Earnings Growth (1Y)','Earnings Growth (2Y)','Earnings Growth (3Y)', 'Earnings Growth (4Y)', 'Earnings Growth (5Y)', 'Earnings Variability',\n",
    "    'Equity', 'FCF', 'FCF/P', 'Income Tax', 'Interest Expense', 'Long Liabilities', 'Long Term Debt', 'Market Cap',\n",
    "    'Operating Cash Flow', 'Operating Expense', 'Operating Income', 'Operating Income Before Depreciation',\n",
    "    'Operating Margin', 'Profit Margin', 'R&D', 'ROA', 'ROE', 'S/P', 'SG&A', 'Sales', 'Sales Growth (1Y)','Sales Growth (2Y)','Sales Growth (3Y)', 'Sales Growth (4Y)', 'Sales Growth (5Y)',\n",
    "    'Sales Variability', 'Short Term Debt', 'TEV', 'Working Capital'\n",
    "]\n",
    "\n",
    "# Extract selected features in the training set\n",
    "df_train_selected = df_train[selected_features + ['FinancialRisk']]\n",
    "\n",
    "# Handle missing values with imputation\n",
    "numeric_imputer = SimpleImputer(strategy='mean')\n",
    "df_train_selected[selected_features] = numeric_imputer.fit_transform(df_train_selected[selected_features])\n",
    "\n",
    "# Separate features and target variable\n",
    "X_train = df_train_selected[selected_features]\n",
    "y_train = df_train_selected['FinancialRisk']\n",
    "\n",
    "# Standardize numeric features\n",
    "scaler = StandardScaler()\n",
    "X_train[selected_features] = scaler.fit_transform(X_train[selected_features])\n",
    "\n",
    "# Select K best features based on correlation with the target variable\n",
    "selector = SelectKBest(score_func=f_regression, k=15)  # You can adjust the value of k as needed\n",
    "X_train_selected = selector.fit_transform(X_train, y_train)\n",
    "\n",
    "# Get the selected feature names\n",
    "selected_feature_names = X_train.columns[selector.get_support()]\n",
    "\n",
    "# Train a model to see feature importance\n",
    "model = RandomForestRegressor(random_state=42)\n",
    "model.fit(X_train_selected, y_train)\n",
    "\n",
    "# Get feature importances\n",
    "feature_importances = model.feature_importances_\n",
    "\n",
    "# Create a DataFrame with feature names and importances\n",
    "feature_importance_df = pd.DataFrame({'Feature': selected_feature_names, 'Importance': feature_importances})\n",
    "\n",
    "# Display or save the feature importance DataFrame\n",
    "print(feature_importance_df)\n"
   ]
  },
  {
   "cell_type": "markdown",
   "metadata": {
    "id": "bUrDuiua3SfH"
   },
   "source": [
    "Running Regression with RandomForest"
   ]
  },
  {
   "cell_type": "code",
   "execution_count": 24,
   "metadata": {
    "colab": {
     "base_uri": "https://localhost:8080/"
    },
    "id": "LSVSo-YCy9eR",
    "outputId": "c554a55c-15b2-40a1-c6b2-e30fc1c867f9"
   },
   "outputs": [
    {
     "name": "stdout",
     "output_type": "stream",
     "text": [
      "        FinancialSector  FinancialRisk\n",
      "ticker                                \n",
      "JAZZ                  0       0.000000\n",
      "WAL                   1       0.335520\n",
      "PGR                   1       0.053290\n",
      "ARES                  1       0.055076\n",
      "CBSH                  1       0.099922\n",
      "...                 ...            ...\n",
      "CMCSA                 0       0.000000\n",
      "PNNT                  1       0.050070\n",
      "ORLY                  0       0.000000\n",
      "PRI                   1       0.004465\n",
      "FIVE                  0       0.000000\n",
      "\n",
      "[104 rows x 2 columns]\n",
      "Mean Squared Error on Training Set: 0.0005657044875897339\n",
      "R-squared on Training Set: 0.959098536487506\n",
      "Cross-validated R-squared scores: [0.79527902 0.77992084 0.78959127 0.6262989  0.63606547]\n"
     ]
    }
   ],
   "source": [
    "# Assuming df_train contains the target variable 'FinancialRisk'\n",
    "# and df_test is missing the 'FinancialRisk' column\n",
    "\n",
    "# Selecting features with moderate or higher importance scores\n",
    "selected_features = ['VWAP', 'Long Liabilities', 'Short Term Debt']\n",
    "\n",
    "# Concatenating selected features with additional necessary columns\n",
    "selected_features = ['FinancialSector'] + selected_features\n",
    "df_train_selected = df_train[selected_features + ['FinancialRisk']].copy()\n",
    "df_test_selected = df_test[selected_features].copy()\n",
    "\n",
    "# Handling missing values using SimpleImputer\n",
    "numeric_imputer = SimpleImputer(strategy='mean')\n",
    "df_train_selected[selected_features] = numeric_imputer.fit_transform(df_train_selected[selected_features])\n",
    "df_test_selected[selected_features] = numeric_imputer.transform(df_test_selected[selected_features])\n",
    "\n",
    "# Standardizing numeric features using StandardScaler\n",
    "scaler = StandardScaler()\n",
    "df_train_selected[selected_features] = scaler.fit_transform(df_train_selected[selected_features])\n",
    "df_test_selected[selected_features] = scaler.transform(df_test_selected[selected_features])\n",
    "\n",
    "# Extracting features and target variable\n",
    "X_train = df_train_selected[selected_features]\n",
    "y_train = df_train_selected['FinancialRisk']\n",
    "X_test = df_test_selected[selected_features]\n",
    "\n",
    "# Train a RandomForestRegressor\n",
    "model = RandomForestRegressor(random_state=42)\n",
    "model.fit(X_train, y_train)\n",
    "\n",
    "# Predict on the test set\n",
    "test_predictions = model.predict(X_test)\n",
    "\n",
    "# Set FinancialRisk to 0 for companies not in the financial sector\n",
    "test_predictions[df_test['FinancialSector'] == 0] = 0\n",
    "\n",
    "# Assigning risk score between 0 and 1\n",
    "test_predictions = test_predictions.clip(0, 1)\n",
    "\n",
    "# Assigning risk score between 0 and 1\n",
    "df_test['FinancialRisk'] = test_predictions\n",
    "\n",
    "# Display or save the updated df_test with the predicted 'FinancialRisk' column\n",
    "print(df_test[['FinancialSector', 'FinancialRisk']])\n",
    "\n",
    "# Evaluate the model performance\n",
    "mse = mean_squared_error(y_train, model.predict(X_train))\n",
    "r2 = r2_score(y_train, model.predict(X_train))\n",
    "cv_scores = cross_val_score(model, X_train, y_train, cv=5)\n",
    "\n",
    "print(f'Mean Squared Error on Training Set: {mse}')\n",
    "print(f'R-squared on Training Set: {r2}')\n",
    "print(f'Cross-validated R-squared scores: {cv_scores}')\n"
   ]
  },
  {
   "cell_type": "code",
   "execution_count": 25,
   "metadata": {
    "id": "knViKjYl14xd"
   },
   "outputs": [],
   "source": [
    "df_test_dropcall = df_test.drop('call_transcript', axis=1)\n",
    "df_test_dropcall.to_csv('Regression_Random_Forest.csv', index=True)"
   ]
  },
  {
   "cell_type": "markdown",
   "metadata": {
    "id": "p36xf0HR3Xha"
   },
   "source": [
    "Running Regression with XGboost"
   ]
  },
  {
   "cell_type": "code",
   "execution_count": 26,
   "metadata": {
    "colab": {
     "base_uri": "https://localhost:8080/"
    },
    "id": "5IhP-iyK3RG4",
    "outputId": "91966ed5-b3f0-4158-9c92-000863503eaf"
   },
   "outputs": [
    {
     "name": "stdout",
     "output_type": "stream",
     "text": [
      "        FinancialSector  FinancialRisk\n",
      "ticker                                \n",
      "JAZZ                  0       0.000000\n",
      "WAL                   1       0.342995\n",
      "PGR                   1       0.051191\n",
      "ARES                  1       0.029500\n",
      "CBSH                  1       0.075389\n",
      "...                 ...            ...\n",
      "CMCSA                 0       0.000000\n",
      "PNNT                  1       0.089314\n",
      "ORLY                  0       0.000000\n",
      "PRI                   1       0.049440\n",
      "FIVE                  0       0.000000\n",
      "\n",
      "[104 rows x 2 columns]\n"
     ]
    }
   ],
   "source": [
    "# Assuming df_train contains the target variable 'FinancialRisk'\n",
    "# and df_test is missing the 'FinancialRisk' column\n",
    "\n",
    "# Selecting features with moderate or higher importance scores\n",
    "selected_features = ['VWAP','Long Liabilities', 'Short Term Debt', 'Preferred Stock', 'Depreciation']\n",
    "\n",
    "# Concatenating selected features with additional necessary columns\n",
    "selected_features = ['FinancialSector'] + selected_features\n",
    "df_train_selected = df_train[selected_features + ['FinancialRisk']].copy()\n",
    "df_test_selected = df_test[selected_features].copy()\n",
    "\n",
    "# Handling missing values using SimpleImputer\n",
    "numeric_imputer = SimpleImputer(strategy='mean')\n",
    "df_train_selected[selected_features] = numeric_imputer.fit_transform(df_train_selected[selected_features])\n",
    "df_test_selected[selected_features] = numeric_imputer.transform(df_test_selected[selected_features])\n",
    "\n",
    "# Standardizing numeric features using StandardScaler\n",
    "scaler = StandardScaler()\n",
    "df_train_selected[selected_features] = scaler.fit_transform(df_train_selected[selected_features])\n",
    "df_test_selected[selected_features] = scaler.transform(df_test_selected[selected_features])\n",
    "\n",
    "# Extracting features and target variable\n",
    "X_train = df_train_selected[selected_features]\n",
    "y_train = df_train_selected['FinancialRisk']\n",
    "X_test = df_test_selected[selected_features]\n",
    "\n",
    "\n",
    "# Step 4: Model Selection\n",
    "model = xgb.XGBRegressor(random_state=42)\n",
    "\n",
    "# Step 5: Model Training\n",
    "model.fit(X_train, y_train)\n",
    "\n",
    "# Use the trained model to predict the 'FinancialRisk' for df_test\n",
    "test_predictions = model.predict(X_test)\n",
    "\n",
    "# Set FinancialRisk to 0 for companies not in the financial sector\n",
    "test_predictions[df_test['FinancialSector'] == 0] = 0\n",
    "\n",
    "# Assigning risk score between 0 and 1\n",
    "test_predictions = test_predictions.clip(0, 1)\n",
    "\n",
    "# Append the modified 'FinancialRisk' column to df_test\n",
    "df_test['FinancialRisk'] = test_predictions\n",
    "\n",
    "# Display or save the updated df_test with the corrected 'FinancialRisk' column\n",
    "print(df_test[['FinancialSector', 'FinancialRisk']])"
   ]
  },
  {
   "cell_type": "code",
   "execution_count": 27,
   "metadata": {
    "colab": {
     "base_uri": "https://localhost:8080/"
    },
    "id": "ejEzgroQbw5p",
    "outputId": "78202e39-2c04-4002-dfb7-f2cb124d366f"
   },
   "outputs": [
    {
     "name": "stdout",
     "output_type": "stream",
     "text": [
      "Mean Squared Error on Training Set: 1.563896125311481e-06\n",
      "R-squared on Training Set: 0.9998869274652933\n",
      "Cross-validated R-squared scores: [ 0.80250884  0.68299629 -0.07099195  0.64035958  0.72883854]\n"
     ]
    }
   ],
   "source": [
    "# Evaluate the model performance\n",
    "mse = mean_squared_error(y_train, model.predict(X_train))\n",
    "r2 = r2_score(y_train, model.predict(X_train))\n",
    "cv_scores = cross_val_score(model, X_train, y_train, cv=5)\n",
    "\n",
    "print(f'Mean Squared Error on Training Set: {mse}')\n",
    "print(f'R-squared on Training Set: {r2}')\n",
    "print(f'Cross-validated R-squared scores: {cv_scores}')\n",
    "\n"
   ]
  },
  {
   "cell_type": "code",
   "execution_count": 28,
   "metadata": {
    "id": "BSWNALdQ3iVm"
   },
   "outputs": [],
   "source": [
    "df_test_dropcall = df_test.drop('call_transcript', axis=1)\n",
    "df_test_dropcall.to_csv('Regression_XGBoost.csv', index=True)"
   ]
  },
  {
   "cell_type": "markdown",
   "metadata": {
    "id": "9QWKDiyN39ud"
   },
   "source": [
    "Fine tuning XGBoost HyperParameters"
   ]
  },
  {
   "cell_type": "code",
   "execution_count": 29,
   "metadata": {
    "colab": {
     "base_uri": "https://localhost:8080/"
    },
    "id": "Y_enIpzd4AXM",
    "outputId": "f4856467-7364-4605-c9d9-b9890f0fde8d"
   },
   "outputs": [
    {
     "name": "stdout",
     "output_type": "stream",
     "text": [
      "Best Hyperparameters: {'learning_rate': 0.2, 'max_depth': 3, 'n_estimators': 150, 'subsample': 0.8}\n",
      "        FinancialSector  FinancialRisk\n",
      "ticker                                \n",
      "JAZZ                  0       0.000000\n",
      "WAL                   1       0.338087\n",
      "PGR                   1       0.052010\n",
      "ARES                  1       0.068290\n",
      "CBSH                  1       0.089954\n",
      "...                 ...            ...\n",
      "CMCSA                 0       0.000000\n",
      "PNNT                  1       0.041199\n",
      "ORLY                  0       0.000000\n",
      "PRI                   1       0.042566\n",
      "FIVE                  0       0.000000\n",
      "\n",
      "[104 rows x 2 columns]\n"
     ]
    }
   ],
   "source": [
    "# Step 4: Model Selection\n",
    "model = xgb.XGBRegressor(random_state=42)\n",
    "\n",
    "# Define hyperparameters to tune\n",
    "param_grid = {\n",
    "    'n_estimators': [50, 100, 150],\n",
    "    'learning_rate': [0.01, 0.1, 0.2],\n",
    "    'max_depth': [3, 5, 7],\n",
    "    'subsample': [0.8, 0.9, 1.0],\n",
    "}\n",
    "\n",
    "# Step 5: Hyperparameter Tuning\n",
    "grid_search = GridSearchCV(model, param_grid, cv=5, scoring='neg_mean_squared_error')\n",
    "grid_search.fit(X_train, y_train)\n",
    "\n",
    "# Get the best hyperparameters\n",
    "best_params = grid_search.best_params_\n",
    "print(\"Best Hyperparameters:\", best_params)\n",
    "\n",
    "# Use the best model to predict the 'FinancialRisk' for df_test\n",
    "best_model = grid_search.best_estimator_\n",
    "test_predictions = best_model.predict(X_test)\n",
    "\n",
    "# Set FinancialRisk to 0 for companies not in the financial sector\n",
    "test_predictions[df_test['FinancialSector'] == 0] = 0\n",
    "\n",
    "# Assigning risk score between 0 and 1\n",
    "test_predictions = test_predictions.clip(0, 1)\n",
    "\n",
    "# Append the modified 'FinancialRisk' column to df_test\n",
    "df_test['FinancialRisk'] = test_predictions\n",
    "\n",
    "# Display or save the updated df_test with the corrected 'FinancialRisk' column\n",
    "print(df_test[['FinancialSector', 'FinancialRisk']])"
   ]
  },
  {
   "cell_type": "code",
   "execution_count": 30,
   "metadata": {
    "colab": {
     "base_uri": "https://localhost:8080/",
     "height": 564
    },
    "id": "JcqY8MRbUXHG",
    "outputId": "238ab47a-fa91-45f1-b934-0a63f003feb0"
   },
   "outputs": [
    {
     "data": {
      "image/png": "[encoded data removed]",
      "text/plain": [
       "<Figure size 720x432 with 1 Axes>"
      ]
     },
     "metadata": {
      "needs_background": "light"
     },
     "output_type": "display_data"
    }
   ],
   "source": [
    "# Analyze feature importance\n",
    "feature_importances = best_model.feature_importances_\n",
    "feature_names = X_train.columns\n",
    "\n",
    "# Create a DataFrame with feature names and importances\n",
    "feature_importance_df = pd.DataFrame({'Feature': feature_names, 'Importance': feature_importances})\n",
    "\n",
    "# Sort the DataFrame by importance in descending order\n",
    "feature_importance_df = feature_importance_df.sort_values(by='Importance', ascending=False)\n",
    "\n",
    "# Plotting the top features\n",
    "plt.figure(figsize=(10, 6))\n",
    "plt.barh(feature_importance_df['Feature'], feature_importance_df['Importance'])\n",
    "plt.xlabel('Importance')\n",
    "plt.title('Feature Importance')\n",
    "plt.show()"
   ]
  },
  {
   "cell_type": "code",
   "execution_count": 31,
   "metadata": {
    "colab": {
     "base_uri": "https://localhost:8080/",
     "height": 206
    },
    "id": "8-KIvQujUkNL",
    "outputId": "90695f3c-dc98-4e01-ac3e-e88818214546"
   },
   "outputs": [
    {
     "data": {
      "text/html": [
       "<div>\n",
       "<style scoped>\n",
       "    .dataframe tbody tr th:only-of-type {\n",
       "        vertical-align: middle;\n",
       "    }\n",
       "\n",
       "    .dataframe tbody tr th {\n",
       "        vertical-align: top;\n",
       "    }\n",
       "\n",
       "    .dataframe thead th {\n",
       "        text-align: right;\n",
       "    }\n",
       "</style>\n",
       "<table border=\"1\" class=\"dataframe\">\n",
       "  <thead>\n",
       "    <tr style=\"text-align: right;\">\n",
       "      <th></th>\n",
       "      <th>Feature</th>\n",
       "      <th>Importance</th>\n",
       "    </tr>\n",
       "  </thead>\n",
       "  <tbody>\n",
       "    <tr>\n",
       "      <th>1</th>\n",
       "      <td>VWAP</td>\n",
       "      <td>0.384558</td>\n",
       "    </tr>\n",
       "    <tr>\n",
       "      <th>0</th>\n",
       "      <td>FinancialSector</td>\n",
       "      <td>0.297316</td>\n",
       "    </tr>\n",
       "    <tr>\n",
       "      <th>2</th>\n",
       "      <td>Long Liabilities</td>\n",
       "      <td>0.139635</td>\n",
       "    </tr>\n",
       "    <tr>\n",
       "      <th>4</th>\n",
       "      <td>Preferred Stock</td>\n",
       "      <td>0.106681</td>\n",
       "    </tr>\n",
       "    <tr>\n",
       "      <th>3</th>\n",
       "      <td>Short Term Debt</td>\n",
       "      <td>0.042900</td>\n",
       "    </tr>\n",
       "  </tbody>\n",
       "</table>\n",
       "</div>"
      ],
      "text/plain": [
       "            Feature  Importance\n",
       "1              VWAP    0.384558\n",
       "0   FinancialSector    0.297316\n",
       "2  Long Liabilities    0.139635\n",
       "4   Preferred Stock    0.106681\n",
       "3   Short Term Debt    0.042900"
      ]
     },
     "execution_count": 31,
     "metadata": {},
     "output_type": "execute_result"
    }
   ],
   "source": [
    "feature_importance_df.head()"
   ]
  },
  {
   "cell_type": "code",
   "execution_count": 32,
   "metadata": {
    "colab": {
     "base_uri": "https://localhost:8080/",
     "height": 472
    },
    "id": "oiUgNekbkLZH",
    "outputId": "2140539f-0e88-41c4-8520-5bda1bf04864"
   },
   "outputs": [
    {
     "data": {
      "image/png": "[encoded data removed]",
      "text/plain": [
       "<Figure size 432x288 with 1 Axes>"
      ]
     },
     "metadata": {
      "needs_background": "light"
     },
     "output_type": "display_data"
    }
   ],
   "source": [
    "# Assuming y_train is a pandas Series or NumPy array\n",
    "actual_values = y_train\n",
    "predicted_values = best_model.predict(X_train)\n",
    "\n",
    "plt.scatter(actual_values, predicted_values, c='blue', label='Actual vs. Predicted')\n",
    "plt.plot([min(actual_values), max(actual_values)], [min(actual_values), max(actual_values)], linestyle='--', color='red', label='Perfect Prediction')\n",
    "plt.xlabel('Actual Values')\n",
    "plt.ylabel('Predicted Values')\n",
    "plt.title('Actual vs. Predicted Plot')\n",
    "plt.legend()\n",
    "plt.show()\n"
   ]
  },
  {
   "cell_type": "code",
   "execution_count": 33,
   "metadata": {
    "colab": {
     "base_uri": "https://localhost:8080/"
    },
    "id": "BCNo1x11fKop",
    "outputId": "bde511f2-b071-42ca-fd96-fcedb44acbe5"
   },
   "outputs": [
    {
     "name": "stdout",
     "output_type": "stream",
     "text": [
      "Mean Squared Error on Training Set: 6.870855495102617e-05\n",
      "R-squared on Training Set: 0.9950322464909211\n",
      "Cross-validated R-squared scores: [0.78332276 0.79347186 0.30333981 0.65437315 0.63586641]\n"
     ]
    }
   ],
   "source": [
    "# Evaluate the model performance\n",
    "mse = mean_squared_error(y_train, best_model.predict(X_train))\n",
    "r2 = r2_score(y_train, best_model.predict(X_train))\n",
    "cv_scores = cross_val_score(best_model, X_train, y_train, cv=5)\n",
    "\n",
    "print(f'Mean Squared Error on Training Set: {mse}')\n",
    "print(f'R-squared on Training Set: {r2}')\n",
    "print(f'Cross-validated R-squared scores: {cv_scores}')\n",
    "\n"
   ]
  },
  {
   "cell_type": "code",
   "execution_count": 34,
   "metadata": {
    "id": "GG5yUhrW4xzT"
   },
   "outputs": [],
   "source": [
    "df_test_dropcall = df_test.drop('call_transcript', axis=1)\n",
    "df_test_dropcall.to_csv('Regression_XGBoost_FineTuned2.csv', index=True)"
   ]
  }
 ],
 "metadata": {
  "colab": {
   "provenance": []
  },
  "kernelspec": {
   "display_name": "Python 3 (ipykernel)",
   "language": "python",
   "name": "python3"
  },
  "language_info": {
   "codemirror_mode": {
    "name": "ipython",
    "version": 3
   },
   "file_extension": ".py",
   "mimetype": "text/x-python",
   "name": "python",
   "nbconvert_exporter": "python",
   "pygments_lexer": "ipython3",
   "version": "3.9.12"
  }
 },
 "nbformat": 4,
 "nbformat_minor": 1
}
